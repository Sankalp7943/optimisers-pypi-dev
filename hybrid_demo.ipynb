{
 "cells": [
  {
   "cell_type": "code",
   "execution_count": 235,
   "metadata": {},
   "outputs": [],
   "source": [
    "import numpy as np\n",
    "import pandas as pd\n",
    "import matplotlib.pyplot as plt_1\n",
    "import matplotlib.pyplot as plt_2\n",
    "import matplotlib.pyplot as plt_3\n",
    "import matplotlib.pyplot as plt_4\n",
    "import keras\n",
    "import tensorflow as tf\n",
    "import sys\n",
    "import os\n",
    "import shutil\n",
    "\n",
    "class mliiitl:\n",
    "    '''\n",
    "    Creates mliiitl object from all the user data\n",
    "    '''\n",
    "    def __init__(self, x_train, y_train, x_test, y_test, \n",
    "                 model, loss, epoch, batch_size):\n",
    "        try:\n",
    "            self._x_train = x_train\n",
    "            self._y_train = y_train\n",
    "            self._x_test = x_test\n",
    "            self._y_test = y_test\n",
    "            self._model = model\n",
    "            self._loss = loss\n",
    "            self._epoch = epoch\n",
    "            self._batch_size = batch_size\n",
    "        except Exception:\n",
    "            try:\n",
    "                print('Invalid arguments given in mliiitl.__init__()')\n",
    "            except Exception:\n",
    "                pass\n",
    "            try:\n",
    "                print('Invalid arguments given in mliiitl.__init__()', file = sys.stdout)\n",
    "            except Exception:\n",
    "                pass \n",
    "        \n",
    "\n",
    "    def delete_model_instance(self):    #open bug: not working\n",
    "        '''\n",
    "        Deletes the temp_model\n",
    "        '''\n",
    "        print(\"hello\")\n",
    "        location = os.getcwd()\n",
    "        folder = 'temp_model'\n",
    "        path = os.path.join(location, folder)\n",
    "        print(path)\n",
    "        print(\"hello\")\n",
    "        try:\n",
    "            shutil.rmtree(path)\n",
    "        except Exception:\n",
    "            print(\"Could not delete directory'temp_model',\\\n",
    "             Kindly delete the folder from current working directory.\\\n",
    "             May cause issues otherwise.\")\n",
    "            pass\n",
    "    \n",
    "    def save_output_model(arr_models, key):\n",
    "        '''\n",
    "        if save argument is True, save all trained models in the current working directory\n",
    "        '''\n",
    "        count = 1\n",
    "        for model in arr_models:\n",
    "            model.save('model_{model}'.format(model = key[count]))\n",
    "            count += 1\n",
    "        print('Models saved in {folder}'.format(folder = os.getcwd()))\n",
    "\n",
    "\n",
    "    def save_model_instance(model):\n",
    "        '''\n",
    "        saves model (temp)\n",
    "        '''\n",
    "        model.save('temp_model')\n",
    "        return 'temp_model'\n",
    "    \n",
    "    def splice_dataset_randomly(x_train, y_train, factor):\n",
    "        '''\n",
    "        splices 1/8th data randomly for training, or by any user specified factor\n",
    "        '''\n",
    "        if factor < 1:\n",
    "            factor = 1\n",
    "            print(\"Factor cannot be less than 1, defaulted to value 1\")\n",
    "        array_new = np.hstack((x_train, np.atleast_2d(y_train).T))\n",
    "        number_of_rows = array_new.shape[0]\n",
    "        random_indices = np.random.choice(number_of_rows, size=number_of_rows//factor, replace=False)\n",
    "        spliced_array_new = array_new[random_indices, :]\n",
    "        df = pd.DataFrame(spliced_array_new)\n",
    "        df_y = df.iloc[:, x_train.shape[1]:]\n",
    "        df_x = df.iloc[:, :x_train.shape[1]]\n",
    "        spliced_y_train = df_y.to_numpy()\n",
    "        spliced_x_train = df_x.to_numpy()\n",
    "        return spliced_x_train,spliced_y_train\n",
    "    \n",
    "    def test_performance(self, plots = False, save = False, factor = 8):\n",
    "        '''\n",
    "        Compiles and train models on different optimisers\n",
    "        '''\n",
    "        temp = mliiitl.save_model_instance(self._model)\n",
    "        spliced_x_train, spliced_y_train = mliiitl.splice_dataset_randomly(self._x_train, self._y_train, factor)\n",
    "        model_sgd = tf.keras.models.load_model('temp_model')\n",
    "        model_rmsprop = tf.keras.models.load_model('temp_model')\n",
    "        model_adagrad = tf.keras.models.load_model('temp_model')\n",
    "        model_adadelta = tf.keras.models.load_model('temp_model')\n",
    "        model_adam = tf.keras.models.load_model('temp_model')\n",
    "        model_ftrl = tf.keras.models.load_model('temp_model')\n",
    "        model_nadam = tf.keras.models.load_model('temp_model')\n",
    "        model_adamax = tf.keras.models.load_model('temp_model')\n",
    "\n",
    "        validation = (self._x_test, self._y_test)\n",
    "\n",
    "        model_sgd.compile(optimizer = 'SGD', loss = self._loss, metrics = ['acc'])\n",
    "        history_sgd = model_sgd.fit(spliced_x_train, spliced_y_train, epochs = self._epoch, batch_size = self._batch_size, validation_data = validation)\n",
    "\n",
    "        model_rmsprop.compile(optimizer = 'RMSprop', loss = self._loss, metrics = ['acc'])\n",
    "        history_rmsprop = model_rmsprop.fit(spliced_x_train, spliced_y_train, epochs = self._epoch, batch_size = self._batch_size, validation_data = validation)\n",
    "\n",
    "        model_adagrad.compile(optimizer = 'Adagrad', loss = self._loss, metrics = ['acc'])\n",
    "        history_adagrad = model_adagrad.fit(spliced_x_train, spliced_y_train, epochs = self._epoch, batch_size = self._batch_size, validation_data = validation)\n",
    "\n",
    "        model_adadelta.compile(optimizer = 'Adadelta', loss = self._loss, metrics = ['acc'])\n",
    "        history_adadelta = model_adagrad.fit(spliced_x_train, spliced_y_train, epochs = self._epoch, batch_size = self._batch_size, validation_data = validation)\n",
    "\n",
    "        model_adam.compile(optimizer = 'adam', loss = self._loss, metrics = ['acc'])\n",
    "        history_adam = model_adam.fit(spliced_x_train, spliced_y_train, epochs = self._epoch, batch_size = self._batch_size, validation_data = validation)\n",
    "\n",
    "        model_ftrl.compile(optimizer = 'Ftrl', loss = self._loss, metrics = ['acc'])\n",
    "        history_ftrl = model_ftrl.fit(spliced_x_train, spliced_y_train, epochs = self._epoch, batch_size = self._batch_size, validation_data = validation)\n",
    "\n",
    "        model_nadam.compile(optimizer = 'Nadam', loss = self._loss, metrics = ['acc'])\n",
    "        history_nadam = model_nadam.fit(spliced_x_train, spliced_y_train, epochs = self._epoch, batch_size = self._batch_size, validation_data = validation)\n",
    "\n",
    "        model_adamax.compile(optimizer = 'Adamax', loss = self._loss, metrics = ['acc'])\n",
    "        history_adamax = model_adamax.fit(spliced_x_train, spliced_y_train, epochs = self._epoch, batch_size = self._batch_size, validation_data = validation)\n",
    "        \n",
    "        mliiitl.delete_model_instance()\n",
    "        output = [history_sgd, history_rmsprop, history_adagrad, history_adadelta, history_adam, history_ftrl, history_nadam, history_adamax]\n",
    "\n",
    "        print(\"1:'SGD', 2:'RMSprop', 3:'AdaGrad', 4:'AdaDelta', 5:'Adam', 6:'Ftrl', 7:'Nadam', 8:'Adamax'\")\n",
    "        key = {1:'SGD', 2:'RMSprop', 3:'AdaGrad', 4:'AdaDelta', 5:'Adam', 6:'Ftrl', 7:'Nadam', 8:'Adamax'}\n",
    "\n",
    "        if save:\n",
    "            arr_models = [model_sgd, model_rmsprop, model_adagrad, model_adadelta, model_adam,\n",
    "             model_ftrl, model_nadam, model_adamax]\n",
    "            mliiitl.save_output_model(arr_models, key)\n",
    "\n",
    "        if plots:\n",
    "            mliiitl.get_plots(output)\n",
    "            return output\n",
    "        else:\n",
    "            return output\n",
    "\n",
    "    def get_plots(output):\n",
    "        '''\n",
    "        If passed True, outputs 4 plots to visualize the performances of different models with respective optimiser.\n",
    "        '''\n",
    "        key = {1:'SGD', 2:'RMSprop', 3:'AdaGrad', 4:'AdaDelta', 5:'Adam', 6:'Ftrl', 7:'Nadam', 8:'Adamax'}\n",
    "        count = 1\n",
    "        for history in output:\n",
    "            plt_1.plot(history.history['acc'], label = key[count])\n",
    "            count += 1\n",
    "        plt_1.title('Model Training Accuracy')\n",
    "        plt_1.ylabel('Training Accuracy')\n",
    "        plt_1.xlabel('Epoch(s)')\n",
    "        plt_1.legend()\n",
    "        plt_1.figure(figsize = (15,10))\n",
    "        plt_1.show()\n",
    "        \n",
    "        count = 1\n",
    "        for history in output:\n",
    "            plt_2.plot(history.history['val_acc'], label = key[count])\n",
    "            count += 1\n",
    "        plt_2.title('Model Validation Accuracy')\n",
    "        plt_2.ylabel('Validation Accuracy')\n",
    "        plt_2.xlabel('Epoch(s)')\n",
    "        plt_2.legend()\n",
    "        plt_2.figure(figsize = (15,10))\n",
    "        plt_2.show()\n",
    "\n",
    "        count = 1\n",
    "        for history in output:\n",
    "            plt_3.plot(history.history['loss'], label = key[count])\n",
    "            count += 1\n",
    "        plt_3.title('Model Training Loss')\n",
    "        plt_3.ylabel('Training Loss')\n",
    "        plt_3.xlabel('Epoch(s)')\n",
    "        plt_3.legend()\n",
    "        plt_3.figure(figsize = (15,10))\n",
    "        plt_3.show()\n",
    "\n",
    "        count = 1\n",
    "        for history in output:\n",
    "            plt_4.plot(history.history['val_loss'], label = key[count])\n",
    "            count += 1\n",
    "        plt_4.title('Model Validation Loss')\n",
    "        plt_4.ylabel('Validation Loss')\n",
    "        plt_4.xlabel('Epoch(s)')\n",
    "        plt_4.legend()\n",
    "        plt_4.figure(figsize = (15,10))\n",
    "        plt_4.show()\n",
    "       \n",
    "\n",
    "\n",
    "class Hybrid(mliiitl):\n",
    "    def __init__(self, mliiitl_object, *args):\n",
    "        self.hybrid_model = mliiitl_object\n",
    "        if args:\n",
    "            optimisers = list(args)\n",
    "        else:\n",
    "            raise Exception(\"Pass name of the optimisers\")\n",
    "        self.list_of_optimisers = optimisers\n",
    "        self.ratio = self.calculate_ratios()\n",
    "        self.quanta = None\n",
    "    \n",
    "    def calculate_ratios(self):\n",
    "        total = self.hybrid_model._epoch\n",
    "        parts = len(self.list_of_optimisers)\n",
    "        ratios = {}\n",
    "        quanta = total//parts\n",
    "        self.quanta = quanta\n",
    "        self.parts = parts\n",
    "        sum_quanta = 0\n",
    "        for _ in range(parts-1):\n",
    "            sum_quanta += quanta\n",
    "            ratios[_] = [self.list_of_optimisers[_], sum_quanta]\n",
    "        ratios[parts-1] =  [self.list_of_optimisers[-1], total-sum_quanta]\n",
    "        print(ratios)\n",
    "        return ratios\n",
    "\n",
    "    def run(self):\n",
    "        flag = 0\n",
    "        plot_val_loss, plot_loss, plot_acc, plot_val_acc = [], [], [], []\n",
    "        validation = (self.hybrid_model._x_test, self.hybrid_model._y_test)\n",
    "        model_hybrid = self.hybrid_model._model\n",
    "        j = 0\n",
    "        for i in range(1, self.hybrid_model._epoch + 1):\n",
    "            print(i, j , flag)\n",
    "            if i > self.ratio[j][1]:\n",
    "                if j < len(self.list_of_optimisers)-1:\n",
    "                    j+=1\n",
    "                    if j < len(self.list_of_optimisers)-1 and flag == 1:\n",
    "                        flag = 2\n",
    "                        print(\"Running {epoch} epoch(s) on {optimiser}\"\n",
    "                              .format(epoch = self.ratio[j][1] - self.ratio[j-1][1], optimiser = self.list_of_optimisers[j]))\n",
    "                    elif j == len(self.list_of_optimisers)-1 and flag == 2:\n",
    "                        flag = 3\n",
    "                        print(\"Running {epoch} epoch(s) on {optimiser}\"\n",
    "                              .format(epoch = self.ratio[j][1], optimiser = self.list_of_optimisers[j]))\n",
    "            if j == 0 and flag == 0:\n",
    "                flag = 1\n",
    "                print(\"Running {epoch} epoch(s) on {optimiser}\"\n",
    "                .format(epoch = self.ratio[j][1], optimiser = self.list_of_optimisers[j]))\n",
    "            model_hybrid.compile(optimizer = self.list_of_optimisers[j], loss = self.hybrid_model._loss, metrics = ['acc'])\n",
    "            if i!=1:\n",
    "                model_hybrid.set_weights(old_weights)\n",
    "            history = model_hybrid.fit(\n",
    "                self.hybrid_model._x_train,\n",
    "                self.hybrid_model._y_train,\n",
    "                epochs = 1,\n",
    "                batch_size = self.hybrid_model._batch_size,\n",
    "                validation_data = validation,\n",
    "            )\n",
    "            old_weights = np.array(model_hybrid.get_weights())\n",
    "            plot_val_loss.append(history.history['val_loss'])\n",
    "            plot_loss.append(history.history['loss'])\n",
    "            plot_val_acc.append(history.history['val_acc'])\n",
    "            plot_acc.append(history.history['acc'])\n",
    "        \n",
    "        return {\n",
    "            \"acc\": plot_acc,\n",
    "            \"loss\": plot_loss,\n",
    "            \"val_acc\": plot_val_acc,\n",
    "            \"val_loss\": plot_val_loss,\n",
    "            \"model\": model_hybrid,\n",
    "        }"
   ]
  },
  {
   "cell_type": "code",
   "execution_count": null,
   "metadata": {},
   "outputs": [],
   "source": []
  },
  {
   "cell_type": "code",
   "execution_count": null,
   "metadata": {},
   "outputs": [],
   "source": []
  },
  {
   "cell_type": "code",
   "execution_count": null,
   "metadata": {},
   "outputs": [],
   "source": []
  },
  {
   "cell_type": "code",
   "execution_count": 236,
   "metadata": {},
   "outputs": [
    {
     "data": {
      "text/plain": [
       "'2.4.1'"
      ]
     },
     "execution_count": 236,
     "metadata": {},
     "output_type": "execute_result"
    }
   ],
   "source": [
    "import tensorflow as tf\n",
    "import matplotlib.pyplot as plt\n",
    "import numpy as np\n",
    "tf.__version__"
   ]
  },
  {
   "cell_type": "code",
   "execution_count": 237,
   "metadata": {},
   "outputs": [
    {
     "data": {
      "text/plain": [
       "<matplotlib.image.AxesImage at 0x26faf2ace08>"
      ]
     },
     "execution_count": 237,
     "metadata": {},
     "output_type": "execute_result"
    },
    {
     "data": {
      "image/png": "[encoded data removed]",
      "text/plain": [
       "<Figure size 432x288 with 1 Axes>"
      ]
     },
     "metadata": {
      "needs_background": "light"
     },
     "output_type": "display_data"
    }
   ],
   "source": [
    "#import datasets\n",
    "\n",
    "mnist= tf.keras.datasets.mnist #28x28 images\n",
    "(x_train,y_train),(x_test,y_test)=mnist.load_data()\n",
    "#print(x_train[0])\n",
    "plt.imshow(x_train[0])"
   ]
  },
  {
   "cell_type": "code",
   "execution_count": 238,
   "metadata": {},
   "outputs": [
    {
     "data": {
      "text/plain": [
       "<matplotlib.image.AxesImage at 0x26fb22eadc8>"
      ]
     },
     "execution_count": 238,
     "metadata": {},
     "output_type": "execute_result"
    },
    {
     "data": {
      "image/png": "[encoded data removed]",
      "text/plain": [
       "<Figure size 432x288 with 1 Axes>"
      ]
     },
     "metadata": {
      "needs_background": "light"
     },
     "output_type": "display_data"
    }
   ],
   "source": [
    "x_train=tf.keras.utils.normalize(x_train,axis=1)\n",
    "x_test=tf.keras.utils.normalize(x_test,axis=1)\n",
    "plt.imshow(x_train[0])"
   ]
  },
  {
   "cell_type": "code",
   "execution_count": 239,
   "metadata": {},
   "outputs": [],
   "source": [
    "#creating DL model\n",
    "model=tf.keras.models.Sequential()\n",
    "model.add(tf.keras.layers.Flatten())#numpy could be used to flatten the 2d array\n",
    "model.add(tf.keras.layers.Dense(128,activation=tf.nn.relu))#neurons,activation func(rectified linear)\n",
    "model.add(tf.keras.layers.Dense(128,activation=tf.nn.relu))\n",
    "model.add(tf.keras.layers.Dense(128,activation=tf.nn.relu))\n",
    "model.add(tf.keras.layers.Dense(10,activation=tf.nn.softmax))#output layer (neurons=no of classes,softmax layer for probability distribution)"
   ]
  },
  {
   "cell_type": "code",
   "execution_count": 240,
   "metadata": {},
   "outputs": [],
   "source": [
    "mliiitl_object = mliiitl(x_train, y_train, x_test, y_test, model, \"sparse_categorical_crossentropy\", 20, 32)\n"
   ]
  },
  {
   "cell_type": "code",
   "execution_count": 241,
   "metadata": {},
   "outputs": [
    {
     "name": "stdout",
     "output_type": "stream",
     "text": [
      "{0: ['SGD', 6], 1: ['adam', 12], 2: ['SGD', 8]}\n"
     ]
    }
   ],
   "source": [
    "hybrid_object = Hybrid(mliiitl_object, \"SGD\", \"adam\", \"SGD\")"
   ]
  },
  {
   "cell_type": "code",
   "execution_count": 242,
   "metadata": {},
   "outputs": [
    {
     "name": "stdout",
     "output_type": "stream",
     "text": [
      "1 0 0\n",
      "Running 6 epoch(s) on SGD\n",
      "1875/1875 [==============================] - 4s 2ms/step - loss: 1.7528 - acc: 0.4899 - val_loss: 0.4135 - val_acc: 0.8843\n",
      "2 0 1\n"
     ]
    },
    {
     "name": "stderr",
     "output_type": "stream",
     "text": [
      "c:\\users\\sharm\\appdata\\local\\programs\\python\\python37\\lib\\site-packages\\ipykernel_launcher.py:261: VisibleDeprecationWarning: Creating an ndarray from ragged nested sequences (which is a list-or-tuple of lists-or-tuples-or ndarrays with different lengths or shapes) is deprecated. If you meant to do this, you must specify 'dtype=object' when creating the ndarray\n"
     ]
    },
    {
     "name": "stdout",
     "output_type": "stream",
     "text": [
      "1875/1875 [==============================] - 4s 2ms/step - loss: 0.3807 - acc: 0.8897 - val_loss: 0.2962 - val_acc: 0.9140\n",
      "3 0 1\n",
      "1875/1875 [==============================] - 4s 2ms/step - loss: 0.2950 - acc: 0.9140 - val_loss: 0.2535 - val_acc: 0.9248\n",
      "4 0 1\n",
      "1875/1875 [==============================] - 4s 2ms/step - loss: 0.2476 - acc: 0.9274 - val_loss: 0.2251 - val_acc: 0.9348\n",
      "5 0 1\n",
      "1875/1875 [==============================] - 4s 2ms/step - loss: 0.2228 - acc: 0.9365 - val_loss: 0.1991 - val_acc: 0.9422\n",
      "6 0 1\n",
      "1875/1875 [==============================] - 4s 2ms/step - loss: 0.2009 - acc: 0.9402 - val_loss: 0.1837 - val_acc: 0.9452\n",
      "7 0 1\n",
      "Running 6 epoch(s) on adam\n",
      "1875/1875 [==============================] - 4s 2ms/step - loss: 0.2000 - acc: 0.9401 - val_loss: 0.1009 - val_acc: 0.9668\n",
      "8 1 2\n",
      "1875/1875 [==============================] - 5s 2ms/step - loss: 0.0964 - acc: 0.9701 - val_loss: 0.0996 - val_acc: 0.9669\n",
      "9 1 2\n",
      "1875/1875 [==============================] - 5s 2ms/step - loss: 0.0685 - acc: 0.9778 - val_loss: 0.0932 - val_acc: 0.9736\n",
      "10 1 2\n",
      "1875/1875 [==============================] - 4s 2ms/step - loss: 0.0507 - acc: 0.9831 - val_loss: 0.1004 - val_acc: 0.9715\n",
      "11 1 2\n",
      "1875/1875 [==============================] - 4s 2ms/step - loss: 0.0402 - acc: 0.9871 - val_loss: 0.0980 - val_acc: 0.9727\n",
      "12 1 2\n",
      "1875/1875 [==============================] - 4s 2ms/step - loss: 0.0333 - acc: 0.9885 - val_loss: 0.0936 - val_acc: 0.9752\n",
      "13 1 2\n",
      "Running 8 epoch(s) on SGD\n",
      "1875/1875 [==============================] - 5s 2ms/step - loss: 0.0168 - acc: 0.9950 - val_loss: 0.0783 - val_acc: 0.9794\n",
      "14 2 3\n",
      "1875/1875 [==============================] - 4s 2ms/step - loss: 0.0105 - acc: 0.9973 - val_loss: 0.0777 - val_acc: 0.9805\n",
      "15 2 3\n",
      "1875/1875 [==============================] - 5s 2ms/step - loss: 0.0085 - acc: 0.9980 - val_loss: 0.0775 - val_acc: 0.9808\n",
      "16 2 3\n",
      "1875/1875 [==============================] - 4s 2ms/step - loss: 0.0075 - acc: 0.9983 - val_loss: 0.0778 - val_acc: 0.9809\n",
      "17 2 3\n",
      "1875/1875 [==============================] - 4s 2ms/step - loss: 0.0068 - acc: 0.9986 - val_loss: 0.0785 - val_acc: 0.9805\n",
      "18 2 3\n",
      "1875/1875 [==============================] - 5s 2ms/step - loss: 0.0060 - acc: 0.9989 - val_loss: 0.0795 - val_acc: 0.9805\n",
      "19 2 3\n",
      "1875/1875 [==============================] - 4s 2ms/step - loss: 0.0050 - acc: 0.9992 - val_loss: 0.0798 - val_acc: 0.9805\n",
      "20 2 3\n",
      "1875/1875 [==============================] - 4s 2ms/step - loss: 0.0050 - acc: 0.9991 - val_loss: 0.0801 - val_acc: 0.9809\n"
     ]
    }
   ],
   "source": [
    "ans = hybrid_object.run()"
   ]
  },
  {
   "cell_type": "code",
   "execution_count": 243,
   "metadata": {},
   "outputs": [
    {
     "data": {
      "image/png": "[encoded data removed]",
      "text/plain": [
       "<Figure size 432x288 with 1 Axes>"
      ]
     },
     "metadata": {
      "needs_background": "light"
     },
     "output_type": "display_data"
    },
    {
     "data": {
      "text/plain": [
       "<Figure size 1080x720 with 0 Axes>"
      ]
     },
     "metadata": {},
     "output_type": "display_data"
    }
   ],
   "source": [
    "plt.plot(ans['loss'])\n",
    "plt.plot(ans[\"val_loss\"])\n",
    "plt.title('model loss')\n",
    "plt.ylabel('loss')\n",
    "plt.xlabel('epoch')\n",
    "plt.legend(['train', 'val'], loc='upper left')\n",
    "plt.figure(figsize = (15,10))\n",
    "plt.show()"
   ]
  },
  {
   "cell_type": "code",
   "execution_count": 244,
   "metadata": {},
   "outputs": [
    {
     "data": {
      "image/png": "[encoded data removed]",
      "text/plain": [
       "<Figure size 432x288 with 1 Axes>"
      ]
     },
     "metadata": {
      "needs_background": "light"
     },
     "output_type": "display_data"
    },
    {
     "data": {
      "text/plain": [
       "<Figure size 1080x720 with 0 Axes>"
      ]
     },
     "metadata": {},
     "output_type": "display_data"
    }
   ],
   "source": [
    "plt.plot(ans['acc'])\n",
    "plt.plot(ans[\"val_acc\"])\n",
    "plt.title('model loss')\n",
    "plt.ylabel('loss')\n",
    "plt.xlabel('epoch')\n",
    "plt.legend(['train', 'val'], loc='upper left')\n",
    "plt.figure(figsize = (15,10))\n",
    "plt.show()"
   ]
  },
  {
   "cell_type": "code",
   "execution_count": null,
   "metadata": {},
   "outputs": [],
   "source": []
  },
  {
   "cell_type": "code",
   "execution_count": null,
   "metadata": {},
   "outputs": [],
   "source": []
  },
  {
   "cell_type": "code",
   "execution_count": null,
   "metadata": {},
   "outputs": [],
   "source": []
  },
  {
   "cell_type": "code",
   "execution_count": 101,
   "metadata": {},
   "outputs": [
    {
     "data": {
      "text/plain": [
       "[[0.10381666570901871,\n",
       "  0.10486666858196259,\n",
       "  0.10350000113248825,\n",
       "  0.10261666774749756,\n",
       "  0.1025666669011116,\n",
       "  0.10249999910593033,\n",
       "  0.10080000013113022,\n",
       "  0.09939999878406525,\n",
       "  0.09809999912977219,\n",
       "  0.09691666811704636],\n",
       " [0.09783333539962769,\n",
       "  0.0999833345413208,\n",
       "  0.09775000065565109,\n",
       "  0.10136666893959045,\n",
       "  0.10100000351667404,\n",
       "  0.1000666692852974,\n",
       "  0.10281666368246078,\n",
       "  0.09886666387319565,\n",
       "  0.10339999943971634,\n",
       "  0.10236666351556778]]"
      ]
     },
     "execution_count": 101,
     "metadata": {},
     "output_type": "execute_result"
    }
   ],
   "source": [
    "ans[0]"
   ]
  },
  {
   "cell_type": "code",
   "execution_count": 102,
   "metadata": {},
   "outputs": [
    {
     "data": {
      "image/png": "[encoded data removed]",
      "text/plain": [
       "<Figure size 432x288 with 1 Axes>"
      ]
     },
     "metadata": {
      "needs_background": "light"
     },
     "output_type": "display_data"
    },
    {
     "data": {
      "text/plain": [
       "<Figure size 1080x720 with 0 Axes>"
      ]
     },
     "metadata": {},
     "output_type": "display_data"
    }
   ],
   "source": [
    "import keras\n",
    "from matplotlib import pyplot as plt\n",
    "\n",
    "plt.plot(ans[2])\n",
    "plt.plot(ans[3])\n",
    "plt.title('model loss')\n",
    "plt.ylabel('loss')\n",
    "plt.xlabel('epoch')\n",
    "plt.legend(['train', 'val'], loc='upper left')\n",
    "plt.figure(figsize = (15,10))\n",
    "plt.show()"
   ]
  },
  {
   "cell_type": "code",
   "execution_count": 103,
   "metadata": {},
   "outputs": [],
   "source": [
    "predictions=ans[4].predict(x_test) #input list"
   ]
  },
  {
   "cell_type": "code",
   "execution_count": null,
   "metadata": {},
   "outputs": [],
   "source": []
  },
  {
   "cell_type": "code",
   "execution_count": null,
   "metadata": {},
   "outputs": [],
   "source": []
  },
  {
   "cell_type": "code",
   "execution_count": 113,
   "metadata": {},
   "outputs": [
    {
     "data": {
      "text/plain": [
       "<matplotlib.image.AxesImage at 0x26fb434d548>"
      ]
     },
     "execution_count": 113,
     "metadata": {},
     "output_type": "execute_result"
    },
    {
     "data": {
      "image/png": "[encoded data removed]",
      "text/plain": [
       "<Figure size 432x288 with 1 Axes>"
      ]
     },
     "metadata": {
      "needs_background": "light"
     },
     "output_type": "display_data"
    }
   ],
   "source": [
    "#import datasets\n",
    "\n",
    "mnist= tf.keras.datasets.mnist #28x28 images\n",
    "(x_train,y_train),(x_test,y_test)=mnist.load_data()\n",
    "#print(x_train[0])\n",
    "plt.imshow(x_train[0])"
   ]
  },
  {
   "cell_type": "code",
   "execution_count": 114,
   "metadata": {},
   "outputs": [
    {
     "data": {
      "text/plain": [
       "<matplotlib.image.AxesImage at 0x26fb43b2388>"
      ]
     },
     "execution_count": 114,
     "metadata": {},
     "output_type": "execute_result"
    },
    {
     "data": {
      "image/png": "[encoded data removed]",
      "text/plain": [
       "<Figure size 432x288 with 1 Axes>"
      ]
     },
     "metadata": {
      "needs_background": "light"
     },
     "output_type": "display_data"
    }
   ],
   "source": [
    "#normalizing the pixel values\n",
    "\n",
    "x_train=tf.keras.utils.normalize(x_train,axis=1)\n",
    "x_test=tf.keras.utils.normalize(x_test,axis=1)\n",
    "plt.imshow(x_train[0])"
   ]
  },
  {
   "cell_type": "code",
   "execution_count": 115,
   "metadata": {},
   "outputs": [],
   "source": [
    "#creating DL model\n",
    "model=tf.keras.models.Sequential()\n",
    "model.add(tf.keras.layers.Flatten())#numpy could be used to flatten the 2d array\n",
    "model.add(tf.keras.layers.Dense(128,activation=tf.nn.relu))#neurons,activation func(rectified linear)\n",
    "model.add(tf.keras.layers.Dense(128,activation=tf.nn.relu))\n",
    "model.add(tf.keras.layers.Dense(128,activation=tf.nn.relu))\n",
    "model.add(tf.keras.layers.Dense(10,activation=tf.nn.softmax))"
   ]
  },
  {
   "cell_type": "code",
   "execution_count": 116,
   "metadata": {
    "scrolled": true
   },
   "outputs": [],
   "source": [
    "model.compile(optimizer='adam',loss='sparse_categorical_crossentropy',metrics=['accuracy'])"
   ]
  },
  {
   "cell_type": "code",
   "execution_count": 118,
   "metadata": {},
   "outputs": [
    {
     "name": "stdout",
     "output_type": "stream",
     "text": [
      "Epoch 1/20\n",
      "1875/1875 [==============================] - 4s 2ms/step - loss: 0.0351 - accuracy: 0.9883 - val_loss: 0.0982 - val_accuracy: 0.9738\n",
      "Epoch 2/20\n",
      "1875/1875 [==============================] - 4s 2ms/step - loss: 0.0274 - accuracy: 0.9911 - val_loss: 0.1095 - val_accuracy: 0.9730\n",
      "Epoch 3/20\n",
      "1875/1875 [==============================] - 4s 2ms/step - loss: 0.0253 - accuracy: 0.9914 - val_loss: 0.1084 - val_accuracy: 0.9730\n",
      "Epoch 4/20\n",
      "1875/1875 [==============================] - 4s 2ms/step - loss: 0.0210 - accuracy: 0.9930 - val_loss: 0.1130 - val_accuracy: 0.9742\n",
      "Epoch 5/20\n",
      "1875/1875 [==============================] - 4s 2ms/step - loss: 0.0189 - accuracy: 0.9937 - val_loss: 0.1159 - val_accuracy: 0.9742\n",
      "Epoch 6/20\n",
      "1875/1875 [==============================] - 3s 2ms/step - loss: 0.0165 - accuracy: 0.9942 - val_loss: 0.1034 - val_accuracy: 0.9771\n",
      "Epoch 7/20\n",
      "1875/1875 [==============================] - 4s 2ms/step - loss: 0.0157 - accuracy: 0.9947 - val_loss: 0.1350 - val_accuracy: 0.9723\n",
      "Epoch 8/20\n",
      "1875/1875 [==============================] - 3s 2ms/step - loss: 0.0169 - accuracy: 0.9943 - val_loss: 0.1188 - val_accuracy: 0.9749\n",
      "Epoch 9/20\n",
      "1875/1875 [==============================] - 4s 2ms/step - loss: 0.0132 - accuracy: 0.9950 - val_loss: 0.1307 - val_accuracy: 0.9753\n",
      "Epoch 10/20\n",
      "1875/1875 [==============================] - 4s 2ms/step - loss: 0.0137 - accuracy: 0.9956 - val_loss: 0.1271 - val_accuracy: 0.9736\n",
      "Epoch 11/20\n",
      "1875/1875 [==============================] - 4s 2ms/step - loss: 0.0121 - accuracy: 0.9961 - val_loss: 0.1361 - val_accuracy: 0.9757\n",
      "Epoch 12/20\n",
      "1875/1875 [==============================] - 3s 2ms/step - loss: 0.0111 - accuracy: 0.9966 - val_loss: 0.1211 - val_accuracy: 0.9752\n",
      "Epoch 13/20\n",
      "1875/1875 [==============================] - 4s 2ms/step - loss: 0.0095 - accuracy: 0.9969 - val_loss: 0.1601 - val_accuracy: 0.9738\n",
      "Epoch 14/20\n",
      "1875/1875 [==============================] - 3s 2ms/step - loss: 0.0102 - accuracy: 0.9966 - val_loss: 0.1361 - val_accuracy: 0.9758\n",
      "Epoch 15/20\n",
      "1875/1875 [==============================] - 4s 2ms/step - loss: 0.0116 - accuracy: 0.9962 - val_loss: 0.1477 - val_accuracy: 0.9730\n",
      "Epoch 16/20\n",
      "1875/1875 [==============================] - 4s 2ms/step - loss: 0.0098 - accuracy: 0.9968 - val_loss: 0.1327 - val_accuracy: 0.9779\n",
      "Epoch 17/20\n",
      "1875/1875 [==============================] - 4s 2ms/step - loss: 0.0095 - accuracy: 0.9973 - val_loss: 0.1311 - val_accuracy: 0.9778\n",
      "Epoch 18/20\n",
      "1875/1875 [==============================] - 4s 2ms/step - loss: 0.0089 - accuracy: 0.9972 - val_loss: 0.1451 - val_accuracy: 0.9769\n",
      "Epoch 19/20\n",
      "1875/1875 [==============================] - 4s 2ms/step - loss: 0.0084 - accuracy: 0.9977 - val_loss: 0.1672 - val_accuracy: 0.9750\n",
      "Epoch 20/20\n",
      "1875/1875 [==============================] - 3s 2ms/step - loss: 0.0087 - accuracy: 0.9974 - val_loss: 0.1570 - val_accuracy: 0.9747\n"
     ]
    }
   ],
   "source": [
    "original_hist=model.fit(x_train,y_train, epochs=20,batch_size=32,validation_data=(x_test, y_test))"
   ]
  },
  {
   "cell_type": "code",
   "execution_count": 119,
   "metadata": {},
   "outputs": [
    {
     "data": {
      "image/png": "[encoded data removed]",
      "text/plain": [
       "<Figure size 432x288 with 1 Axes>"
      ]
     },
     "metadata": {
      "needs_background": "light"
     },
     "output_type": "display_data"
    }
   ],
   "source": [
    "\n",
    "epochs = range(1, 21)\n",
    "original_val_loss = original_hist.history['val_loss']\n",
    "\n",
    "plt.plot(epochs, original_val_loss, label='adam')\n",
    "plt.xlabel('Epochs')\n",
    "plt.ylim(0, 1)\n",
    "plt.ylabel('Validation loss')\n",
    "plt.legend()\n",
    "plt.show()"
   ]
  },
  {
   "cell_type": "code",
   "execution_count": null,
   "metadata": {},
   "outputs": [],
   "source": [
    "model_hybrid.set_weights(a)"
   ]
  },
  {
   "cell_type": "code",
   "execution_count": null,
   "metadata": {},
   "outputs": [],
   "source": []
  }
 ],
 "metadata": {
  "kernelspec": {
   "display_name": "Python 3",
   "language": "python",
   "name": "python3"
  },
  "language_info": {
   "codemirror_mode": {
    "name": "ipython",
    "version": 3
   },
   "file_extension": ".py",
   "mimetype": "text/x-python",
   "name": "python",
   "nbconvert_exporter": "python",
   "pygments_lexer": "ipython3",
   "version": "3.7.7"
  }
 },
 "nbformat": 4,
 "nbformat_minor": 4
}
