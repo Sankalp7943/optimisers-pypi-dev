{
 "cells": [
  {
   "cell_type": "code",
   "execution_count": null,
   "metadata": {},
   "outputs": [],
   "source": [
    "from keras.datasets import imdb\n",
    "import numpy as np\n",
    "from keras import models\n",
    "from keras import layers\n",
    "import matplotlib.pyplot as plt"
   ]
  },
  {
   "cell_type": "code",
   "execution_count": null,
   "metadata": {},
   "outputs": [],
   "source": [
    "from keras.datasets import imdb\n",
    "import numpy as np\n",
    "from keras import models\n",
    "from keras import layers\n",
    "import matplotlib.pyplot as plt"
   ]
  },
  {
   "cell_type": "code",
   "execution_count": null,
   "metadata": {},
   "outputs": [],
   "source": [
    "#install libraries\n",
    "'''\n",
    "tensorflow\n",
    "tensorflow-gpu\n",
    "keras\n",
    "matplotlib\n",
    "pandas\n",
    "numpy\n",
    "pip upgarde\n",
    "\n",
    "'''\n",
    "import numpy as np\n",
    "import pandas as pd\n",
    "import matplotlib as plt\n",
    "\n",
    "'''\n",
    "arguments such as batch size= error optmisers=[]/else all, xtrain_y-train epochs. activation functions and input shape\n",
    "validation\n",
    "'''\n",
    "\n",
    "original_model7 = models.Sequential()\n",
    "original_model7.add(layers.Dense(16, activation='relu', input_shape=(10000,)))\n",
    "original_model7.add(layers.Dense(16, activation='relu'))\n",
    "original_model7.add(layers.Dense(1, activation='sigmoid'))\n",
    "\n",
    "\n",
    "def func(x_train,y_train,model,validation,loss,epoch,batch):\n",
    "\n",
    "    model.compile(optimizer='Ftrl',loss=loss,metrics=['acc'])\n",
    "    hist7 = model.fit(x_train, y_train,epochs=epoch,batch_size=batch,validation_data=validation)\n",
    "\n",
    "func(x_train,y_train,original_model7,(x_test,y_test),'binary_crossentropy',20,512)"
   ]
  },
  {
   "cell_type": "code",
   "execution_count": null,
   "metadata": {},
   "outputs": [],
   "source": [
    "from keras.datasets import imdb\n",
    "import numpy as np\n",
    "from keras import models\n",
    "from keras import layers\n",
    "import numpy as np\n",
    "import pandas as pd\n",
    "import matplotlib as plt\n",
    "import tensorflow as tf\n",
    "\n",
    "class mliiitl:\n",
    "    def __init__(self, x_train, y_train, model, validation, loss, epoch, batch):\n",
    "        self.x_train = x_train\n",
    "        self.y_train = y_train\n",
    "        self.model = model\n",
    "        self.validation = validation\n",
    "        self.loss = loss\n",
    "        self.epoch = epoch\n",
    "        self.batch = batch\n",
    "        return self\n",
    "\n",
    "    def train_splice(self):\n",
    "        self.model.save('template_model')\n",
    "        #check if this model is already saved, will it be replaced or renamed to something else\n",
    "        new_model = tf.keras.models.load_model('template_model')\n",
    "        '''\n",
    "            add optimisers separate models\n",
    "        '''\n",
    "                  \n",
    "        \n",
    "        \n",
    "        \n",
    "if __name__ == __main__():\n",
    "    model = mliiitl() #pass arguments\n",
    "    \n",
    "    \n",
    "    "
   ]
  }
 ],
 "metadata": {
  "kernelspec": {
   "display_name": "Python 3",
   "language": "python",
   "name": "python3"
  },
  "language_info": {
   "codemirror_mode": {
    "name": "ipython",
    "version": 3
   },
   "file_extension": ".py",
   "mimetype": "text/x-python",
   "name": "python",
   "nbconvert_exporter": "python",
   "pygments_lexer": "ipython3",
   "version": "3.7.7"
  }
 },
 "nbformat": 4,
 "nbformat_minor": 4
}
