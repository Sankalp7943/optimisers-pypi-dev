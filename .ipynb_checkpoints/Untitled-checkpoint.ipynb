{
 "cells": [
  {
   "cell_type": "code",
   "execution_count": 49,
   "metadata": {},
   "outputs": [
    {
     "name": "stderr",
     "output_type": "stream",
     "text": [
      "<string>:6: VisibleDeprecationWarning: Creating an ndarray from ragged nested sequences (which is a list-or-tuple of lists-or-tuples-or ndarrays with different lengths or shapes) is deprecated. If you meant to do this, you must specify 'dtype=object' when creating the ndarray\n",
      "C:\\Users\\sharm\\AppData\\Roaming\\Python\\Python37\\site-packages\\tensorflow\\python\\keras\\datasets\\imdb.py:159: VisibleDeprecationWarning: Creating an ndarray from ragged nested sequences (which is a list-or-tuple of lists-or-tuples-or ndarrays with different lengths or shapes) is deprecated. If you meant to do this, you must specify 'dtype=object' when creating the ndarray\n",
      "  x_train, y_train = np.array(xs[:idx]), np.array(labels[:idx])\n",
      "C:\\Users\\sharm\\AppData\\Roaming\\Python\\Python37\\site-packages\\tensorflow\\python\\keras\\datasets\\imdb.py:160: VisibleDeprecationWarning: Creating an ndarray from ragged nested sequences (which is a list-or-tuple of lists-or-tuples-or ndarrays with different lengths or shapes) is deprecated. If you meant to do this, you must specify 'dtype=object' when creating the ndarray\n",
      "  x_test, y_test = np.array(xs[idx:]), np.array(labels[idx:])\n"
     ]
    }
   ],
   "source": [
    "import pandas as pd\n",
    "from keras.datasets import imdb\n",
    "import numpy as np\n",
    "from keras import models\n",
    "from keras import layers\n",
    "import matplotlib.pyplot as plt\n",
    "\n",
    "\n",
    "\n",
    "(train_data, train_labels), (test_data, test_labels) = imdb.load_data(num_words=10000)\n",
    " \n",
    "def vectorize_sequences(sequences, dimension=10000):\n",
    "    # Create an all-zero matrix of shape (len(sequences), dimension)\n",
    "    results = np.zeros((len(sequences), dimension))\n",
    "    for i, sequence in enumerate(sequences):\n",
    "        results[i, sequence] = 1.  # set specific indices of results[i] to 1s\n",
    "    return results"
   ]
  },
  {
   "cell_type": "code",
   "execution_count": 50,
   "metadata": {},
   "outputs": [],
   "source": [
    " \n",
    "# Our vectorized training data\n",
    "x_train = vectorize_sequences(train_data)\n",
    "# Our vectorized test data\n",
    "x_test = vectorize_sequences(test_data)\n",
    "# Our vectorized labels\n",
    "y_train = np.asarray(train_labels).astype('float32')\n",
    "y_test = np.asarray(test_labels).astype('float32')"
   ]
  },
  {
   "cell_type": "code",
   "execution_count": 51,
   "metadata": {},
   "outputs": [],
   "source": [
    "epochs=100"
   ]
  },
  {
   "cell_type": "code",
   "execution_count": 52,
   "metadata": {},
   "outputs": [],
   "source": [
    "model_hybrid = models.Sequential()\n",
    "model_hybrid.add(layers.Dense(512, activation='relu', input_shape=(10000,)))\n",
    "model_hybrid.add(layers.Dense(512, activation='relu'))\n",
    "model_hybrid.add(layers.Dense(1, activation='sigmoid'))"
   ]
  },
  {
   "cell_type": "code",
   "execution_count": 53,
   "metadata": {},
   "outputs": [],
   "source": [
    "validation = (x_test, y_test)\n",
    "x1,x2,y=[],[],[list(range(1,epochs+1))]\n",
    "key = {1:'SGD', 2:'RMSprop', 3:'AdaGrad', 4:'AdaDelta', 5:'Adam', 6:'Ftrl', 7:'Nadam', 8:'Adamax'}"
   ]
  },
  {
   "cell_type": "code",
   "execution_count": 54,
   "metadata": {},
   "outputs": [
    {
     "name": "stdout",
     "output_type": "stream",
     "text": [
      "INFO:tensorflow:Assets written to: HYBRID\\assets\n",
      "WARNING:tensorflow:No training configuration found in save file, so the model was *not* compiled. Compile it manually.\n",
      "49/49 [==============================] - 6s 114ms/step - loss: 0.6905 - acc: 0.5405 - val_loss: 0.6866 - val_acc: 0.5840\n",
      "INFO:tensorflow:Assets written to: HYBRID\\assets\n",
      "[0.5557199716567993]\n",
      "[0.5839999914169312]\n",
      "49/49 [==============================] - 7s 136ms/step - loss: 0.6393 - acc: 0.7262 - val_loss: 0.3496 - val_acc: 0.8549\n",
      "INFO:tensorflow:Assets written to: HYBRID\\assets\n",
      "[0.8009999990463257]\n",
      "[0.8549200296401978]\n",
      "49/49 [==============================] - 7s 102ms/step - loss: 0.2122 - acc: 0.9223 - val_loss: 0.2921 - val_acc: 0.8818\n",
      "INFO:tensorflow:Assets written to: HYBRID\\assets\n",
      "[0.9287599921226501]\n",
      "[0.8818399906158447]\n",
      "49/49 [==============================] - 6s 105ms/step - loss: 0.1846 - acc: 0.9364 - val_loss: 0.2894 - val_acc: 0.8828\n",
      "INFO:tensorflow:Assets written to: HYBRID\\assets\n",
      "[0.9370399713516235]\n",
      "[0.8827599883079529]\n",
      "49/49 [==============================] - 6s 106ms/step - loss: 0.1847 - acc: 0.9310 - val_loss: 0.2951 - val_acc: 0.8811\n",
      "INFO:tensorflow:Assets written to: HYBRID\\assets\n",
      "[0.9282400012016296]\n",
      "[0.8811200261116028]\n",
      "49/49 [==============================] - 6s 118ms/step - loss: 0.6375 - acc: 0.5408 - val_loss: 0.6931 - val_acc: 0.5000\n",
      "INFO:tensorflow:Assets written to: HYBRID\\assets\n",
      "[0.5060399770736694]\n",
      "[0.5]\n",
      "49/49 [==============================] - 8s 148ms/step - loss: 0.6164 - acc: 0.6477 - val_loss: 0.3796 - val_acc: 0.8468\n",
      "INFO:tensorflow:Assets written to: HYBRID\\assets\n",
      "[0.7656800150871277]\n",
      "[0.8467599749565125]\n",
      "49/49 [==============================] - 5s 101ms/step - loss: 0.2585 - acc: 0.9097 - val_loss: 0.3000 - val_acc: 0.8826\n",
      "INFO:tensorflow:Assets written to: HYBRID\\assets\n",
      "[0.9174000024795532]\n",
      "[0.88264000415802]\n",
      "49/49 [==============================] - 5s 98ms/step - loss: 0.1724 - acc: 0.9428 - val_loss: 0.3056 - val_acc: 0.8825\n",
      "INFO:tensorflow:Assets written to: HYBRID\\assets\n",
      "[0.9427599906921387]\n",
      "[0.8824800252914429]\n",
      "49/49 [==============================] - 7s 134ms/step - loss: 0.4129 - acc: 0.8918 - val_loss: 0.3141 - val_acc: 0.8760\n",
      "INFO:tensorflow:Assets written to: HYBRID\\assets\n",
      "[0.9047600030899048]\n",
      "[0.876039981842041]\n",
      "49/49 [==============================] - 8s 139ms/step - loss: 0.1451 - acc: 0.9499 - val_loss: 0.3146 - val_acc: 0.8789\n",
      "INFO:tensorflow:Assets written to: HYBRID\\assets\n",
      "[0.9526399970054626]\n",
      "[0.8789200186729431]\n",
      "49/49 [==============================] - 6s 111ms/step - loss: 0.1388 - acc: 0.9542 - val_loss: 0.3151 - val_acc: 0.8788\n",
      "INFO:tensorflow:Assets written to: HYBRID\\assets\n",
      "[0.9557600021362305]\n",
      "[0.8787999749183655]\n",
      "49/49 [==============================] - 5s 103ms/step - loss: 0.1546 - acc: 0.9434 - val_loss: 0.3901 - val_acc: 0.8666\n",
      "INFO:tensorflow:Assets written to: HYBRID\\assets\n",
      "[0.9392799735069275]\n",
      "[0.8666399717330933]\n",
      "49/49 [==============================] - 6s 113ms/step - loss: 0.6376 - acc: 0.5440 - val_loss: 0.6931 - val_acc: 0.5000\n",
      "INFO:tensorflow:Assets written to: HYBRID\\assets\n",
      "[0.5104799866676331]\n",
      "[0.5]\n",
      "49/49 [==============================] - 10s 157ms/step - loss: 0.6443 - acc: 0.5997 - val_loss: 0.4867 - val_acc: 0.8705\n",
      "INFO:tensorflow:Assets written to: HYBRID\\assets\n",
      "[0.7195199728012085]\n",
      "[0.8704800009727478]\n",
      "49/49 [==============================] - 5s 101ms/step - loss: 0.4401 - acc: 0.9039 - val_loss: 0.4753 - val_acc: 0.8795\n",
      "INFO:tensorflow:Assets written to: HYBRID\\assets\n",
      "[0.9089199900627136]\n",
      "[0.8795199990272522]\n",
      "49/49 [==============================] - 5s 103ms/step - loss: 0.4083 - acc: 0.9283 - val_loss: 0.4613 - val_acc: 0.8790\n",
      "INFO:tensorflow:Assets written to: HYBRID\\assets\n",
      "[0.9278799891471863]\n",
      "[0.8790000081062317]\n",
      "49/49 [==============================] - 7s 134ms/step - loss: 0.4183 - acc: 0.9104 - val_loss: 0.4781 - val_acc: 0.8722\n",
      "INFO:tensorflow:Assets written to: HYBRID\\assets\n",
      "[0.9091200232505798]\n",
      "[0.8722400069236755]\n",
      "49/49 [==============================] - 6s 122ms/step - loss: 0.3683 - acc: 0.9303 - val_loss: 0.4721 - val_acc: 0.8732\n",
      "INFO:tensorflow:Assets written to: HYBRID\\assets\n",
      "[0.9288399815559387]\n",
      "[0.873199999332428]\n",
      "49/49 [==============================] - 5s 105ms/step - loss: 0.3654 - acc: 0.9324 - val_loss: 0.4718 - val_acc: 0.8732\n",
      "INFO:tensorflow:Assets written to: HYBRID\\assets\n",
      "[0.9309599995613098]\n",
      "[0.8731600046157837]\n",
      "49/49 [==============================] - 5s 106ms/step - loss: 0.3729 - acc: 0.9243 - val_loss: 0.4802 - val_acc: 0.8675\n",
      "INFO:tensorflow:Assets written to: HYBRID\\assets\n",
      "[0.9218000173568726]\n",
      "[0.8674799799919128]\n"
     ]
    }
   ],
   "source": [
    "import keras\n",
    "from matplotlib import pyplot as plt\n",
    "plot_points=[]\n",
    "plot_points2=[]\n",
    "model_hybrid.save('HYBRID')\n",
    "for i in range(epochs+1):\n",
    "    j = (i % 8) + 1\n",
    "    model_hybrid = tf.keras.models.load_model('HYBRID')\n",
    "    model_hybrid.compile(optimizer = key[j], loss = \n",
    "                         'binary_crossentropy', metrics = ['acc'])\n",
    "    history = model_hybrid.fit(x_train, y_train, epochs = 1, batch_size = 512, validation_data = validation)\n",
    "    model_hybrid.save('HYBRID')\n",
    "    plot_points.append(history.history['val_loss'])\n",
    "    plot_points2.append(history.history['loss'])\n",
    "    print(history.history['acc'])\n",
    "    print(history.history['val_acc'])"
   ]
  },
  {
   "cell_type": "code",
   "execution_count": null,
   "metadata": {},
   "outputs": [],
   "source": [
    "plt.plot(plot_points2)\n",
    "plt.plot(plot_points)\n",
    "plt.title('model loss')\n",
    "plt.ylabel('loss')\n",
    "plt.xlabel('epoch')\n",
    "plt.legend(['train', 'val'], loc='upper left')\n",
    "plt.figure(figsize = (15,10))\n",
    "plt.show()"
   ]
  },
  {
   "cell_type": "code",
   "execution_count": null,
   "metadata": {},
   "outputs": [],
   "source": []
  },
  {
   "cell_type": "code",
   "execution_count": 55,
   "metadata": {},
   "outputs": [
    {
     "data": {
      "image/png": "[encoded data removed]",
      "text/plain": [
       "<Figure size 432x288 with 1 Axes>"
      ]
     },
     "metadata": {
      "needs_background": "light"
     },
     "output_type": "display_data"
    }
   ],
   "source": [
    "plt.plot(plot_points2)\n",
    "plt.plot(plot_points)\n",
    "plt.title('model loss')\n",
    "plt.ylabel('loss')\n",
    "plt.xlabel('epoch')\n",
    "plt.legend(['train', 'val'], loc='upper left')\n",
    "plt.show()"
   ]
  },
  {
   "cell_type": "code",
   "execution_count": null,
   "metadata": {},
   "outputs": [],
   "source": []
  }
 ],
 "metadata": {
  "kernelspec": {
   "display_name": "Python 3",
   "language": "python",
   "name": "python3"
  },
  "language_info": {
   "codemirror_mode": {
    "name": "ipython",
    "version": 3
   },
   "file_extension": ".py",
   "mimetype": "text/x-python",
   "name": "python",
   "nbconvert_exporter": "python",
   "pygments_lexer": "ipython3",
   "version": "3.7.7"
  }
 },
 "nbformat": 4,
 "nbformat_minor": 4
}
