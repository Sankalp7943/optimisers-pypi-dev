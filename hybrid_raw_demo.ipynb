{
 "cells": [
  {
   "cell_type": "code",
   "execution_count": 93,
   "metadata": {},
   "outputs": [],
   "source": [
    "import pandas as pd\n",
    "from keras.datasets import imdb\n",
    "import numpy as np\n",
    "from keras import models\n",
    "from keras import layers\n",
    "import matplotlib.pyplot as plt\n",
    "import tensorflow as tf\n",
    "import keras\n",
    "\n",
    "(train_data, train_labels), (test_data, test_labels) = imdb.load_data(num_words=10000)\n",
    " \n",
    "def vectorize_sequences(sequences, dimension=10000):\n",
    "    # Create an all-zero matrix of shape (len(sequences), dimension)\n",
    "    results = np.zeros((len(sequences), dimension))\n",
    "    for i, sequence in enumerate(sequences):\n",
    "        results[i, sequence] = 1.  # set specific indices of results[i] to 1s\n",
    "    return results"
   ]
  },
  {
   "cell_type": "code",
   "execution_count": 94,
   "metadata": {},
   "outputs": [],
   "source": [
    " \n",
    "# Our vectorized training data\n",
    "x_train = vectorize_sequences(train_data)\n",
    "# Our vectorized test data\n",
    "x_test = vectorize_sequences(test_data)\n",
    "# Our vectorized labels\n",
    "y_train = np.asarray(train_labels).astype('float32')\n",
    "y_test = np.asarray(test_labels).astype('float32')"
   ]
  },
  {
   "cell_type": "code",
   "execution_count": 95,
   "metadata": {},
   "outputs": [],
   "source": [
    "\n",
    "validation = (x_test, y_test)"
   ]
  },
  {
   "cell_type": "code",
   "execution_count": 96,
   "metadata": {},
   "outputs": [],
   "source": [
    "model_hybrid = models.Sequential()\n",
    "model_hybrid.add(layers.Dense(32, activation='relu', input_shape=(10000,)))\n",
    "model_hybrid.add(layers.Dense(32, activation='relu'))\n",
    "model_hybrid.add(layers.Dense(1, activation='sigmoid'))"
   ]
  },
  {
   "cell_type": "code",
   "execution_count": 97,
   "metadata": {},
   "outputs": [],
   "source": [
    "model_hybrid.compile(optimizer = 'SGD', loss = 'binary_crossentropy', metrics = ['acc'])"
   ]
  },
  {
   "cell_type": "code",
   "execution_count": 98,
   "metadata": {},
   "outputs": [
    {
     "name": "stdout",
     "output_type": "stream",
     "text": [
      "Epoch 1/10\n",
      "782/782 [==============================] - 5s 6ms/step - loss: 0.6298 - acc: 0.6635 - val_loss: 0.3882 - val_acc: 0.8409\n",
      "Epoch 2/10\n",
      "782/782 [==============================] - 3s 4ms/step - loss: 0.3509 - acc: 0.8595 - val_loss: 0.3280 - val_acc: 0.8624\n",
      "Epoch 3/10\n",
      "782/782 [==============================] - 3s 4ms/step - loss: 0.2771 - acc: 0.8863 - val_loss: 0.3071 - val_acc: 0.8739\n",
      "Epoch 4/10\n",
      "782/782 [==============================] - 3s 4ms/step - loss: 0.2389 - acc: 0.9072 - val_loss: 0.2948 - val_acc: 0.8797\n",
      "Epoch 5/10\n",
      "782/782 [==============================] - 3s 4ms/step - loss: 0.2144 - acc: 0.9183 - val_loss: 0.4244 - val_acc: 0.8282\n",
      "Epoch 6/10\n",
      "782/782 [==============================] - 3s 4ms/step - loss: 0.1975 - acc: 0.9251 - val_loss: 0.3195 - val_acc: 0.8701\n",
      "Epoch 7/10\n",
      "782/782 [==============================] - 3s 4ms/step - loss: 0.1843 - acc: 0.9307 - val_loss: 0.3139 - val_acc: 0.8759\n",
      "Epoch 8/10\n",
      "782/782 [==============================] - 3s 4ms/step - loss: 0.1727 - acc: 0.9342 - val_loss: 0.3224 - val_acc: 0.8734\n",
      "Epoch 9/10\n",
      "782/782 [==============================] - 3s 4ms/step - loss: 0.1613 - acc: 0.9409 - val_loss: 0.3313 - val_acc: 0.8737\n",
      "Epoch 10/10\n",
      "782/782 [==============================] - 3s 4ms/step - loss: 0.1543 - acc: 0.9429 - val_loss: 0.3356 - val_acc: 0.8718\n"
     ]
    }
   ],
   "source": [
    "history = model_hybrid.fit(x_train, y_train, epochs = 10, batch_size = 32, validation_data = validation)"
   ]
  },
  {
   "cell_type": "code",
   "execution_count": 99,
   "metadata": {},
   "outputs": [
    {
     "data": {
      "image/png": "[encoded data removed]",
      "text/plain": [
       "<Figure size 432x288 with 1 Axes>"
      ]
     },
     "metadata": {
      "needs_background": "light"
     },
     "output_type": "display_data"
    },
    {
     "data": {
      "text/plain": [
       "<Figure size 1080x720 with 0 Axes>"
      ]
     },
     "metadata": {},
     "output_type": "display_data"
    }
   ],
   "source": [
    "import keras\n",
    "from matplotlib import pyplot as plt\n",
    "\n",
    "plt.plot(history.history['loss'])\n",
    "plt.plot(history.history['val_loss'])\n",
    "plt.title('model loss')\n",
    "plt.ylabel('loss')\n",
    "plt.xlabel('epoch')\n",
    "plt.legend(['train', 'val'], loc='upper left')\n",
    "plt.figure(figsize = (15,10))\n",
    "plt.show()"
   ]
  },
  {
   "cell_type": "code",
   "execution_count": 100,
   "metadata": {},
   "outputs": [
    {
     "name": "stdout",
     "output_type": "stream",
     "text": [
      "[array([[ 0.01386063, -0.00099793,  0.00278381, ...,  0.01467112,\n",
      "        -0.01540023, -0.01751613],\n",
      "       [ 0.02007913, -0.02760625,  0.02610821, ...,  0.03326672,\n",
      "         0.03534952,  0.02705991],\n",
      "       [ 0.05202335,  0.00624746,  0.00815381, ...,  0.04089495,\n",
      "         0.03316626,  0.05625294],\n",
      "       ...,\n",
      "       [-0.0109465 , -0.01423397, -0.00501794, ..., -0.01938338,\n",
      "         0.00068247,  0.01095451],\n",
      "       [-0.00539245,  0.00260965, -0.00884097, ..., -0.02302874,\n",
      "         0.01564607,  0.02506809],\n",
      "       [ 0.00864482, -0.01453773, -0.01152436, ...,  0.01323029,\n",
      "         0.00337679, -0.00038337]], dtype=float32)\n",
      " array([ 0.03106665, -0.01174491,  0.01508769,  0.0498174 ,  0.00927235,\n",
      "        0.03527131, -0.00245597,  0.03380682,  0.00684413,  0.02115115,\n",
      "        0.02848884,  0.01633403,  0.00146984, -0.00730715, -0.00593333,\n",
      "       -0.00508926,  0.04219392, -0.00117242,  0.00298185,  0.02748593,\n",
      "       -0.00196472, -0.00094441,  0.04993965,  0.03819178,  0.03819894,\n",
      "       -0.00909148, -0.00221442,  0.00458105,  0.02116297,  0.03629822,\n",
      "        0.02021814,  0.01424558], dtype=float32)\n",
      " array([[ 0.32198158,  0.15065151, -0.25264624, ..., -0.2173405 ,\n",
      "         0.20912188, -0.2090551 ],\n",
      "       [-0.18664345, -0.02351051, -0.28004158, ..., -0.30025932,\n",
      "         0.2758833 , -0.09428602],\n",
      "       [ 0.18581322,  0.03336663, -0.21853903, ..., -0.16721688,\n",
      "         0.08346728, -0.23925555],\n",
      "       ...,\n",
      "       [ 0.11043406, -0.01700376, -0.29956278, ...,  0.22623138,\n",
      "         0.27526787,  0.2572207 ],\n",
      "       [-0.04282196,  0.06429845,  0.0825851 , ...,  0.04094989,\n",
      "        -0.11679655,  0.23790517],\n",
      "       [ 0.29285914,  0.08231287,  0.05024679, ..., -0.28018475,\n",
      "         0.11446022, -0.3713836 ]], dtype=float32)\n",
      " array([ 0.07080903,  0.00941823, -0.00509144,  0.04620387,  0.05450619,\n",
      "        0.02538436,  0.05232199,  0.01727489,  0.04234699,  0.03149133,\n",
      "        0.00104963, -0.02894744,  0.04195718,  0.00647977, -0.01638606,\n",
      "       -0.01501769,  0.04229526,  0.09996662,  0.0008384 ,  0.05448837,\n",
      "        0.03042388, -0.02799771,  0.0212719 ,  0.05950308, -0.00913367,\n",
      "        0.03371186,  0.04596849,  0.03730465,  0.03341991,  0.02365743,\n",
      "        0.04241105,  0.04417529], dtype=float32)\n",
      " array([[-0.77127063],\n",
      "       [-0.17231016],\n",
      "       [-0.28879634],\n",
      "       [-0.6913401 ],\n",
      "       [ 0.3602817 ],\n",
      "       [-0.41022232],\n",
      "       [-0.51715356],\n",
      "       [ 0.5458174 ],\n",
      "       [-0.51415825],\n",
      "       [ 0.6457997 ],\n",
      "       [ 0.05300177],\n",
      "       [-0.27585837],\n",
      "       [-0.6995862 ],\n",
      "       [ 0.47675517],\n",
      "       [ 0.271681  ],\n",
      "       [-0.14437813],\n",
      "       [ 0.24541783],\n",
      "       [ 0.6526957 ],\n",
      "       [-0.08127674],\n",
      "       [ 0.22459143],\n",
      "       [ 0.5382261 ],\n",
      "       [ 0.15280856],\n",
      "       [ 0.62685883],\n",
      "       [-0.61912024],\n",
      "       [ 0.3074468 ],\n",
      "       [ 0.55092335],\n",
      "       [ 0.62526435],\n",
      "       [-0.4773067 ],\n",
      "       [-0.5137732 ],\n",
      "       [ 0.68617266],\n",
      "       [-0.24451546],\n",
      "       [ 0.6662215 ]], dtype=float32)\n",
      " array([-0.05611556], dtype=float32)]\n"
     ]
    },
    {
     "name": "stderr",
     "output_type": "stream",
     "text": [
      "c:\\users\\sharm\\appdata\\local\\programs\\python\\python37\\lib\\site-packages\\ipykernel_launcher.py:1: VisibleDeprecationWarning: Creating an ndarray from ragged nested sequences (which is a list-or-tuple of lists-or-tuples-or ndarrays with different lengths or shapes) is deprecated. If you meant to do this, you must specify 'dtype=object' when creating the ndarray\n",
      "  \"\"\"Entry point for launching an IPython kernel.\n"
     ]
    }
   ],
   "source": [
    "a = np.array(model_hybrid.get_weights())\n",
    "print(a)"
   ]
  },
  {
   "cell_type": "code",
   "execution_count": 101,
   "metadata": {},
   "outputs": [],
   "source": [
    "model_hybrid.compile(optimizer = 'adam', loss = 'binary_crossentropy', metrics = ['acc'])"
   ]
  },
  {
   "cell_type": "code",
   "execution_count": 102,
   "metadata": {},
   "outputs": [],
   "source": [
    "model_hybrid.set_weights(a)"
   ]
  },
  {
   "cell_type": "code",
   "execution_count": 103,
   "metadata": {
    "scrolled": true
   },
   "outputs": [
    {
     "name": "stdout",
     "output_type": "stream",
     "text": [
      "[array([[ 0.01386063, -0.00099793,  0.00278381, ...,  0.01467112,\n",
      "        -0.01540023, -0.01751613],\n",
      "       [ 0.02007913, -0.02760625,  0.02610821, ...,  0.03326672,\n",
      "         0.03534952,  0.02705991],\n",
      "       [ 0.05202335,  0.00624746,  0.00815381, ...,  0.04089495,\n",
      "         0.03316626,  0.05625294],\n",
      "       ...,\n",
      "       [-0.0109465 , -0.01423397, -0.00501794, ..., -0.01938338,\n",
      "         0.00068247,  0.01095451],\n",
      "       [-0.00539245,  0.00260965, -0.00884097, ..., -0.02302874,\n",
      "         0.01564607,  0.02506809],\n",
      "       [ 0.00864482, -0.01453773, -0.01152436, ...,  0.01323029,\n",
      "         0.00337679, -0.00038337]], dtype=float32)\n",
      " array([ 0.03106665, -0.01174491,  0.01508769,  0.0498174 ,  0.00927235,\n",
      "        0.03527131, -0.00245597,  0.03380682,  0.00684413,  0.02115115,\n",
      "        0.02848884,  0.01633403,  0.00146984, -0.00730715, -0.00593333,\n",
      "       -0.00508926,  0.04219392, -0.00117242,  0.00298185,  0.02748593,\n",
      "       -0.00196472, -0.00094441,  0.04993965,  0.03819178,  0.03819894,\n",
      "       -0.00909148, -0.00221442,  0.00458105,  0.02116297,  0.03629822,\n",
      "        0.02021814,  0.01424558], dtype=float32)\n",
      " array([[ 0.32198158,  0.15065151, -0.25264624, ..., -0.2173405 ,\n",
      "         0.20912188, -0.2090551 ],\n",
      "       [-0.18664345, -0.02351051, -0.28004158, ..., -0.30025932,\n",
      "         0.2758833 , -0.09428602],\n",
      "       [ 0.18581322,  0.03336663, -0.21853903, ..., -0.16721688,\n",
      "         0.08346728, -0.23925555],\n",
      "       ...,\n",
      "       [ 0.11043406, -0.01700376, -0.29956278, ...,  0.22623138,\n",
      "         0.27526787,  0.2572207 ],\n",
      "       [-0.04282196,  0.06429845,  0.0825851 , ...,  0.04094989,\n",
      "        -0.11679655,  0.23790517],\n",
      "       [ 0.29285914,  0.08231287,  0.05024679, ..., -0.28018475,\n",
      "         0.11446022, -0.3713836 ]], dtype=float32)\n",
      " array([ 0.07080903,  0.00941823, -0.00509144,  0.04620387,  0.05450619,\n",
      "        0.02538436,  0.05232199,  0.01727489,  0.04234699,  0.03149133,\n",
      "        0.00104963, -0.02894744,  0.04195718,  0.00647977, -0.01638606,\n",
      "       -0.01501769,  0.04229526,  0.09996662,  0.0008384 ,  0.05448837,\n",
      "        0.03042388, -0.02799771,  0.0212719 ,  0.05950308, -0.00913367,\n",
      "        0.03371186,  0.04596849,  0.03730465,  0.03341991,  0.02365743,\n",
      "        0.04241105,  0.04417529], dtype=float32)\n",
      " array([[-0.77127063],\n",
      "       [-0.17231016],\n",
      "       [-0.28879634],\n",
      "       [-0.6913401 ],\n",
      "       [ 0.3602817 ],\n",
      "       [-0.41022232],\n",
      "       [-0.51715356],\n",
      "       [ 0.5458174 ],\n",
      "       [-0.51415825],\n",
      "       [ 0.6457997 ],\n",
      "       [ 0.05300177],\n",
      "       [-0.27585837],\n",
      "       [-0.6995862 ],\n",
      "       [ 0.47675517],\n",
      "       [ 0.271681  ],\n",
      "       [-0.14437813],\n",
      "       [ 0.24541783],\n",
      "       [ 0.6526957 ],\n",
      "       [-0.08127674],\n",
      "       [ 0.22459143],\n",
      "       [ 0.5382261 ],\n",
      "       [ 0.15280856],\n",
      "       [ 0.62685883],\n",
      "       [-0.61912024],\n",
      "       [ 0.3074468 ],\n",
      "       [ 0.55092335],\n",
      "       [ 0.62526435],\n",
      "       [-0.4773067 ],\n",
      "       [-0.5137732 ],\n",
      "       [ 0.68617266],\n",
      "       [-0.24451546],\n",
      "       [ 0.6662215 ]], dtype=float32)\n",
      " array([-0.05611556], dtype=float32)]\n"
     ]
    },
    {
     "name": "stderr",
     "output_type": "stream",
     "text": [
      "c:\\users\\sharm\\appdata\\local\\programs\\python\\python37\\lib\\site-packages\\ipykernel_launcher.py:1: VisibleDeprecationWarning: Creating an ndarray from ragged nested sequences (which is a list-or-tuple of lists-or-tuples-or ndarrays with different lengths or shapes) is deprecated. If you meant to do this, you must specify 'dtype=object' when creating the ndarray\n",
      "  \"\"\"Entry point for launching an IPython kernel.\n"
     ]
    }
   ],
   "source": [
    "b = np.array(model_hybrid.get_weights())\n",
    "print(b)"
   ]
  },
  {
   "cell_type": "code",
   "execution_count": 104,
   "metadata": {},
   "outputs": [
    {
     "data": {
      "text/plain": [
       "False"
      ]
     },
     "execution_count": 104,
     "metadata": {},
     "output_type": "execute_result"
    }
   ],
   "source": [
    "np.array_equal(a, b)"
   ]
  },
  {
   "cell_type": "code",
   "execution_count": 105,
   "metadata": {},
   "outputs": [
    {
     "name": "stdout",
     "output_type": "stream",
     "text": [
      "Epoch 1/10\n",
      "782/782 [==============================] - 5s 5ms/step - loss: 0.2195 - acc: 0.9115 - val_loss: 0.3135 - val_acc: 0.8695\n",
      "Epoch 2/10\n",
      "782/782 [==============================] - 4s 5ms/step - loss: 0.1334 - acc: 0.9474 - val_loss: 0.3597 - val_acc: 0.8646\n",
      "Epoch 3/10\n",
      "782/782 [==============================] - 4s 5ms/step - loss: 0.0772 - acc: 0.9716 - val_loss: 0.4123 - val_acc: 0.8626\n",
      "Epoch 4/10\n",
      "782/782 [==============================] - 4s 5ms/step - loss: 0.0390 - acc: 0.9871 - val_loss: 0.6214 - val_acc: 0.8530\n",
      "Epoch 5/10\n",
      "782/782 [==============================] - 4s 5ms/step - loss: 0.0129 - acc: 0.9970 - val_loss: 0.7633 - val_acc: 0.8496\n",
      "Epoch 6/10\n",
      "782/782 [==============================] - 4s 5ms/step - loss: 0.0133 - acc: 0.9959 - val_loss: 0.7518 - val_acc: 0.8564\n",
      "Epoch 7/10\n",
      "782/782 [==============================] - 4s 5ms/step - loss: 0.0106 - acc: 0.9973 - val_loss: 0.8675 - val_acc: 0.8607\n",
      "Epoch 8/10\n",
      "782/782 [==============================] - 4s 5ms/step - loss: 0.0144 - acc: 0.9952 - val_loss: 0.8935 - val_acc: 0.8541\n",
      "Epoch 9/10\n",
      "782/782 [==============================] - 4s 5ms/step - loss: 0.0026 - acc: 0.9994 - val_loss: 0.9807 - val_acc: 0.8604\n",
      "Epoch 10/10\n",
      "782/782 [==============================] - 4s 5ms/step - loss: 5.6803e-04 - acc: 0.9999 - val_loss: 1.0770 - val_acc: 0.8589\n"
     ]
    }
   ],
   "source": [
    "history = model_hybrid.fit(x_train, y_train, epochs = 10, batch_size = 32, validation_data = validation)"
   ]
  },
  {
   "cell_type": "code",
   "execution_count": 106,
   "metadata": {},
   "outputs": [
    {
     "data": {
      "image/png": "[encoded data removed]",
      "text/plain": [
       "<Figure size 432x288 with 1 Axes>"
      ]
     },
     "metadata": {
      "needs_background": "light"
     },
     "output_type": "display_data"
    },
    {
     "data": {
      "text/plain": [
       "<Figure size 1080x720 with 0 Axes>"
      ]
     },
     "metadata": {},
     "output_type": "display_data"
    }
   ],
   "source": [
    "import keras\n",
    "from matplotlib import pyplot as plt\n",
    "\n",
    "plt.plot(history.history['loss'])\n",
    "plt.plot(history.history['val_loss'])\n",
    "plt.title('model loss')\n",
    "plt.ylabel('loss')\n",
    "plt.xlabel('epoch')\n",
    "plt.legend(['train', 'val'], loc='upper left')\n",
    "plt.figure(figsize = (15,10))\n",
    "plt.show()"
   ]
  },
  {
   "cell_type": "code",
   "execution_count": null,
   "metadata": {},
   "outputs": [],
   "source": [
    "# RAN FROM HERE RIGHT NOW #######################"
   ]
  },
  {
   "cell_type": "code",
   "execution_count": 162,
   "metadata": {},
   "outputs": [],
   "source": [
    "epochs =15"
   ]
  },
  {
   "cell_type": "code",
   "execution_count": 163,
   "metadata": {},
   "outputs": [],
   "source": [
    "model_hybrid = models.Sequential()\n",
    "model_hybrid.add(layers.Dense(32, activation='relu', input_shape=(10000,)))\n",
    "model_hybrid.add(layers.Dense(32, activation='relu'))\n",
    "model_hybrid.add(layers.Dense(1, activation='sigmoid'))"
   ]
  },
  {
   "cell_type": "code",
   "execution_count": 164,
   "metadata": {},
   "outputs": [],
   "source": [
    "validation = (x_test, y_test)\n",
    "key = {1:'SGD', 2:'RMSprop', 3:'AdaGrad', 4:'AdaDelta', 5:'Adam', 6:'Nadam', 7:'Adamax'}"
   ]
  },
  {
   "cell_type": "code",
   "execution_count": 165,
   "metadata": {},
   "outputs": [
    {
     "name": "stdout",
     "output_type": "stream",
     "text": [
      "49/49 [==============================] - 2s 41ms/step - loss: 0.6915 - acc: 0.5193 - val_loss: 0.6881 - val_acc: 0.5452\n"
     ]
    },
    {
     "name": "stderr",
     "output_type": "stream",
     "text": [
      "c:\\users\\sharm\\appdata\\local\\programs\\python\\python37\\lib\\site-packages\\ipykernel_launcher.py:12: VisibleDeprecationWarning: Creating an ndarray from ragged nested sequences (which is a list-or-tuple of lists-or-tuples-or ndarrays with different lengths or shapes) is deprecated. If you meant to do this, you must specify 'dtype=object' when creating the ndarray\n",
      "  if sys.path[0] == '':\n"
     ]
    },
    {
     "name": "stdout",
     "output_type": "stream",
     "text": [
      "49/49 [==============================] - 3s 43ms/step - loss: 0.5272 - acc: 0.7428 - val_loss: 0.3265 - val_acc: 0.8737\n",
      "49/49 [==============================] - 2s 41ms/step - loss: 0.2460 - acc: 0.9215 - val_loss: 0.3053 - val_acc: 0.8879\n",
      "49/49 [==============================] - 2s 40ms/step - loss: 0.2378 - acc: 0.9281 - val_loss: 0.3051 - val_acc: 0.8880\n",
      "49/49 [==============================] - 3s 44ms/step - loss: 0.2283 - acc: 0.9181 - val_loss: 0.2900 - val_acc: 0.8851\n",
      "49/49 [==============================] - 4s 64ms/step - loss: 0.1634 - acc: 0.9446 - val_loss: 0.3032 - val_acc: 0.8808\n",
      "49/49 [==============================] - 3s 58ms/step - loss: 0.1226 - acc: 0.9605 - val_loss: 0.3286 - val_acc: 0.8779\n",
      "49/49 [==============================] - 12s 186ms/step - loss: 0.0982 - acc: 0.9699 - val_loss: 0.3306 - val_acc: 0.8781\n",
      "49/49 [==============================] - 7s 39ms/step - loss: 0.1606 - acc: 0.9416 - val_loss: 0.3818 - val_acc: 0.8665\n",
      "49/49 [==============================] - 2s 36ms/step - loss: 0.0968 - acc: 0.9682 - val_loss: 0.3494 - val_acc: 0.8744\n",
      "49/49 [==============================] - 2s 34ms/step - loss: 0.0851 - acc: 0.9745 - val_loss: 0.3495 - val_acc: 0.8744\n",
      "49/49 [==============================] - 2s 38ms/step - loss: 0.1005 - acc: 0.9653 - val_loss: 0.3911 - val_acc: 0.8682\n",
      "49/49 [==============================] - 3s 36ms/step - loss: 0.0790 - acc: 0.9756 - val_loss: 0.4438 - val_acc: 0.8634\n",
      "49/49 [==============================] - 2s 31ms/step - loss: 0.0531 - acc: 0.9857 - val_loss: 0.4691 - val_acc: 0.8632\n",
      "49/49 [==============================] - 2s 32ms/step - loss: 0.0385 - acc: 0.9922 - val_loss: 0.4720 - val_acc: 0.8638\n",
      "49/49 [==============================] - 4s 71ms/step - loss: 0.0897 - acc: 0.9712 - val_loss: 0.5128 - val_acc: 0.8602\n"
     ]
    }
   ],
   "source": [
    "import keras\n",
    "from matplotlib import pyplot as plt\n",
    "plot_points=[]\n",
    "plot_points2=[]\n",
    "for i in range(epochs+1):\n",
    "    j = (i % 7) + 1\n",
    "    model_hybrid.compile(optimizer = key[j], loss = \n",
    "                         'binary_crossentropy', metrics = ['acc'])\n",
    "    if i!=0:\n",
    "        model_hybrid.set_weights(a)\n",
    "    history = model_hybrid.fit(x_train, y_train, epochs = 1, batch_size = 512, validation_data = validation)\n",
    "    a = np.array(model_hybrid.get_weights())\n",
    "    plot_points.append(history.history['val_loss'])\n",
    "    plot_points2.append(history.history['loss'])"
   ]
  },
  {
   "cell_type": "code",
   "execution_count": 176,
   "metadata": {},
   "outputs": [
    {
     "data": {
      "text/plain": [
       "[0.4014943242073059]"
      ]
     },
     "execution_count": 176,
     "metadata": {},
     "output_type": "execute_result"
    }
   ],
   "source": [
    "plot_points[0]"
   ]
  },
  {
   "cell_type": "code",
   "execution_count": 166,
   "metadata": {},
   "outputs": [
    {
     "data": {
      "image/png": "[encoded data removed]",
      "text/plain": [
       "<Figure size 432x288 with 1 Axes>"
      ]
     },
     "metadata": {
      "needs_background": "light"
     },
     "output_type": "display_data"
    },
    {
     "data": {
      "text/plain": [
       "<Figure size 1080x720 with 0 Axes>"
      ]
     },
     "metadata": {},
     "output_type": "display_data"
    }
   ],
   "source": [
    "plt.plot(plot_points2)\n",
    "plt.plot(plot_points)\n",
    "plt.title('model loss')\n",
    "plt.ylabel('loss')\n",
    "plt.xlabel('epoch')\n",
    "plt.legend(['train', 'val'], loc='upper left')\n",
    "plt.figure(figsize = (15,10))\n",
    "plt.show()"
   ]
  },
  {
   "cell_type": "code",
   "execution_count": null,
   "metadata": {},
   "outputs": [],
   "source": []
  },
  {
   "cell_type": "code",
   "execution_count": null,
   "metadata": {},
   "outputs": [],
   "source": []
  },
  {
   "cell_type": "code",
   "execution_count": null,
   "metadata": {},
   "outputs": [],
   "source": []
  },
  {
   "cell_type": "code",
   "execution_count": 167,
   "metadata": {},
   "outputs": [],
   "source": [
    "model_hybrid = models.Sequential()\n",
    "model_hybrid.add(layers.Dense(512, activation='relu', input_shape=(10000,)))\n",
    "model_hybrid.add(layers.Dense(512, activation='relu'))\n",
    "model_hybrid.add(layers.Dense(1, activation='sigmoid'))"
   ]
  },
  {
   "cell_type": "code",
   "execution_count": 168,
   "metadata": {},
   "outputs": [],
   "source": [
    "validation = (x_test, y_test)\n",
    "key = {1:'SGD', 2:'RMSprop', 3:'AdaGrad', 4:'AdaDelta', 5:'Adam', 6:'Nadam', 7:'Adamax'}"
   ]
  },
  {
   "cell_type": "code",
   "execution_count": 169,
   "metadata": {},
   "outputs": [
    {
     "name": "stdout",
     "output_type": "stream",
     "text": [
      "782/782 [==============================] - 17s 21ms/step - loss: 0.6449 - acc: 0.6627 - val_loss: 0.4209 - val_acc: 0.8296\n"
     ]
    },
    {
     "name": "stderr",
     "output_type": "stream",
     "text": [
      "c:\\users\\sharm\\appdata\\local\\programs\\python\\python37\\lib\\site-packages\\ipykernel_launcher.py:12: VisibleDeprecationWarning: Creating an ndarray from ragged nested sequences (which is a list-or-tuple of lists-or-tuples-or ndarrays with different lengths or shapes) is deprecated. If you meant to do this, you must specify 'dtype=object' when creating the ndarray\n",
      "  if sys.path[0] == '':\n"
     ]
    },
    {
     "name": "stdout",
     "output_type": "stream",
     "text": [
      "782/782 [==============================] - 42s 53ms/step - loss: 0.3887 - acc: 0.8429 - val_loss: 0.2831 - val_acc: 0.8852\n",
      "782/782 [==============================] - 20s 24ms/step - loss: 0.1769 - acc: 0.9366 - val_loss: 0.2864 - val_acc: 0.8870\n",
      "782/782 [==============================] - 27s 30ms/step - loss: 0.1720 - acc: 0.9371 - val_loss: 0.2871 - val_acc: 0.8871\n",
      "782/782 [==============================] - 23s 28ms/step - loss: 0.1969 - acc: 0.9271 - val_loss: 0.2992 - val_acc: 0.8787\n",
      "782/782 [==============================] - 60s 76ms/step - loss: 0.0810 - acc: 0.9718 - val_loss: 0.4831 - val_acc: 0.8633\n",
      "782/782 [==============================] - 23s 29ms/step - loss: 0.0112 - acc: 0.9963 - val_loss: 0.9241 - val_acc: 0.8724\n",
      "782/782 [==============================] - 17s 21ms/step - loss: 0.0041 - acc: 0.9990 - val_loss: 0.9453 - val_acc: 0.8730\n",
      "782/782 [==============================] - 40s 50ms/step - loss: 0.0097 - acc: 0.9971 - val_loss: 1.7078 - val_acc: 0.8726\n",
      "782/782 [==============================] - 20s 25ms/step - loss: 0.0018 - acc: 0.9996 - val_loss: 1.6876 - val_acc: 0.8720\n",
      "782/782 [==============================] - 23s 29ms/step - loss: 0.0016 - acc: 0.9996 - val_loss: 1.6886 - val_acc: 0.8719\n",
      "782/782 [==============================] - 22s 28ms/step - loss: 0.0193 - acc: 0.9957 - val_loss: 0.9512 - val_acc: 0.8664\n",
      "782/782 [==============================] - 61s 77ms/step - loss: 0.0163 - acc: 0.9968 - val_loss: 1.1467 - val_acc: 0.8616\n",
      "782/782 [==============================] - 26s 28ms/step - loss: 0.0028 - acc: 0.9993 - val_loss: 1.6398 - val_acc: 0.8654\n",
      "782/782 [==============================] - 17s 21ms/step - loss: 5.4657e-05 - acc: 1.0000 - val_loss: 1.6413 - val_acc: 0.8655\n",
      "782/782 [==============================] - 40s 51ms/step - loss: 7.7830e-04 - acc: 0.9999 - val_loss: 2.8798 - val_acc: 0.8681\n"
     ]
    }
   ],
   "source": [
    "import keras\n",
    "from matplotlib import pyplot as plt\n",
    "plot_points=[]\n",
    "plot_points2=[]\n",
    "for i in range(epochs+1):\n",
    "    j = (i % 7) + 1\n",
    "    model_hybrid.compile(optimizer = key[j], loss = \n",
    "                         'binary_crossentropy', metrics = ['acc'])\n",
    "    if i!=0:\n",
    "        model_hybrid.set_weights(a)\n",
    "    history = model_hybrid.fit(x_train, y_train, epochs = 1, batch_size = 32, validation_data = validation)\n",
    "    a = np.array(model_hybrid.get_weights())\n",
    "    plot_points.append(history.history['val_loss'])\n",
    "    plot_points2.append(history.history['loss'])"
   ]
  },
  {
   "cell_type": "code",
   "execution_count": 170,
   "metadata": {},
   "outputs": [
    {
     "data": {
      "image/png": "[encoded data removed]",
      "text/plain": [
       "<Figure size 432x288 with 1 Axes>"
      ]
     },
     "metadata": {
      "needs_background": "light"
     },
     "output_type": "display_data"
    },
    {
     "data": {
      "text/plain": [
       "<Figure size 1080x720 with 0 Axes>"
      ]
     },
     "metadata": {},
     "output_type": "display_data"
    }
   ],
   "source": [
    "plt.plot(plot_points2)\n",
    "plt.plot(plot_points)\n",
    "plt.title('model loss')\n",
    "plt.ylabel('loss')\n",
    "plt.xlabel('epoch')\n",
    "plt.legend(['train', 'val'], loc='upper left')\n",
    "plt.figure(figsize = (15,10))\n",
    "plt.show()"
   ]
  },
  {
   "cell_type": "code",
   "execution_count": null,
   "metadata": {},
   "outputs": [],
   "source": []
  },
  {
   "cell_type": "code",
   "execution_count": null,
   "metadata": {},
   "outputs": [],
   "source": []
  },
  {
   "cell_type": "code",
   "execution_count": null,
   "metadata": {},
   "outputs": [],
   "source": []
  },
  {
   "cell_type": "code",
   "execution_count": null,
   "metadata": {},
   "outputs": [],
   "source": []
  },
  {
   "cell_type": "code",
   "execution_count": null,
   "metadata": {},
   "outputs": [],
   "source": []
  },
  {
   "cell_type": "code",
   "execution_count": null,
   "metadata": {},
   "outputs": [],
   "source": []
  },
  {
   "cell_type": "code",
   "execution_count": null,
   "metadata": {},
   "outputs": [],
   "source": []
  },
  {
   "cell_type": "code",
   "execution_count": null,
   "metadata": {},
   "outputs": [],
   "source": []
  },
  {
   "cell_type": "code",
   "execution_count": null,
   "metadata": {},
   "outputs": [],
   "source": []
  },
  {
   "cell_type": "code",
   "execution_count": null,
   "metadata": {},
   "outputs": [],
   "source": []
  },
  {
   "cell_type": "code",
   "execution_count": null,
   "metadata": {},
   "outputs": [],
   "source": []
  },
  {
   "cell_type": "code",
   "execution_count": 171,
   "metadata": {},
   "outputs": [],
   "source": [
    "model_hybrid = models.Sequential()\n",
    "model_hybrid.add(layers.Dense(32, activation='relu', input_shape=(10000,)))\n",
    "model_hybrid.add(layers.Dense(32, activation='relu'))\n",
    "model_hybrid.add(layers.Dense(1, activation='sigmoid'))"
   ]
  },
  {
   "cell_type": "code",
   "execution_count": 172,
   "metadata": {},
   "outputs": [],
   "source": [
    "validation = (x_test, y_test)\n",
    "key = {1:'SGD', 2:'sgd', 3:'sgd', 4:'sgd', 5:'Adam', 6:'adam', 7:'adam'}"
   ]
  },
  {
   "cell_type": "code",
   "execution_count": 173,
   "metadata": {},
   "outputs": [
    {
     "name": "stdout",
     "output_type": "stream",
     "text": [
      "INFO:tensorflow:Assets written to: HYBRID\\assets\n",
      "WARNING:tensorflow:No training configuration found in save file, so the model was *not* compiled. Compile it manually.\n",
      "782/782 [==============================] - 5s 6ms/step - loss: 0.6347 - acc: 0.6485 - val_loss: 0.4015 - val_acc: 0.8365\n"
     ]
    },
    {
     "name": "stderr",
     "output_type": "stream",
     "text": [
      "c:\\users\\sharm\\appdata\\local\\programs\\python\\python37\\lib\\site-packages\\ipykernel_launcher.py:14: VisibleDeprecationWarning: Creating an ndarray from ragged nested sequences (which is a list-or-tuple of lists-or-tuples-or ndarrays with different lengths or shapes) is deprecated. If you meant to do this, you must specify 'dtype=object' when creating the ndarray\n",
      "  \n"
     ]
    },
    {
     "name": "stdout",
     "output_type": "stream",
     "text": [
      "WARNING:tensorflow:No training configuration found in save file, so the model was *not* compiled. Compile it manually.\n",
      "782/782 [==============================] - 7s 8ms/step - loss: 0.3286 - acc: 0.8634 - val_loss: 0.2998 - val_acc: 0.8793\n",
      "WARNING:tensorflow:No training configuration found in save file, so the model was *not* compiled. Compile it manually.\n",
      "782/782 [==============================] - 6s 7ms/step - loss: 0.1752 - acc: 0.9369 - val_loss: 0.2845 - val_acc: 0.8888\n",
      "WARNING:tensorflow:No training configuration found in save file, so the model was *not* compiled. Compile it manually.\n",
      "782/782 [==============================] - 6s 7ms/step - loss: 0.1724 - acc: 0.9370 - val_loss: 0.2844 - val_acc: 0.8888\n",
      "WARNING:tensorflow:No training configuration found in save file, so the model was *not* compiled. Compile it manually.\n",
      "782/782 [==============================] - 8s 9ms/step - loss: 0.1968 - acc: 0.9232 - val_loss: 0.3058 - val_acc: 0.8784\n",
      "WARNING:tensorflow:No training configuration found in save file, so the model was *not* compiled. Compile it manually.\n",
      "782/782 [==============================] - 9s 10ms/step - loss: 0.1253 - acc: 0.9529 - val_loss: 0.3782 - val_acc: 0.8689\n",
      "WARNING:tensorflow:No training configuration found in save file, so the model was *not* compiled. Compile it manually.\n",
      "782/782 [==============================] - 6s 8ms/step - loss: 0.0503 - acc: 0.9821 - val_loss: 0.4809 - val_acc: 0.8716\n",
      "WARNING:tensorflow:No training configuration found in save file, so the model was *not* compiled. Compile it manually.\n",
      "782/782 [==============================] - 5s 6ms/step - loss: 0.0364 - acc: 0.9877 - val_loss: 0.5183 - val_acc: 0.8714\n",
      "WARNING:tensorflow:No training configuration found in save file, so the model was *not* compiled. Compile it manually.\n",
      "782/782 [==============================] - 8s 9ms/step - loss: 0.0453 - acc: 0.9841 - val_loss: 0.7272 - val_acc: 0.8704\n",
      "WARNING:tensorflow:No training configuration found in save file, so the model was *not* compiled. Compile it manually.\n",
      "782/782 [==============================] - 6s 7ms/step - loss: 0.0283 - acc: 0.9909 - val_loss: 0.7255 - val_acc: 0.8708\n",
      "WARNING:tensorflow:No training configuration found in save file, so the model was *not* compiled. Compile it manually.\n",
      "782/782 [==============================] - 6s 8ms/step - loss: 0.0265 - acc: 0.9918 - val_loss: 0.7260 - val_acc: 0.8707\n",
      "WARNING:tensorflow:No training configuration found in save file, so the model was *not* compiled. Compile it manually.\n",
      "782/782 [==============================] - 8s 8ms/step - loss: 0.0400 - acc: 0.9874 - val_loss: 0.6927 - val_acc: 0.8613\n",
      "WARNING:tensorflow:No training configuration found in save file, so the model was *not* compiled. Compile it manually.\n",
      "782/782 [==============================] - 10s 12ms/step - loss: 0.0271 - acc: 0.9918 - val_loss: 0.9220 - val_acc: 0.8485\n",
      "WARNING:tensorflow:No training configuration found in save file, so the model was *not* compiled. Compile it manually.\n",
      "782/782 [==============================] - 7s 8ms/step - loss: 0.0119 - acc: 0.9967 - val_loss: 0.9779 - val_acc: 0.8630\n",
      "WARNING:tensorflow:No training configuration found in save file, so the model was *not* compiled. Compile it manually.\n",
      "782/782 [==============================] - 6s 7ms/step - loss: 0.0060 - acc: 0.9985 - val_loss: 1.0010 - val_acc: 0.8635\n",
      "WARNING:tensorflow:No training configuration found in save file, so the model was *not* compiled. Compile it manually.\n",
      "782/782 [==============================] - 8s 10ms/step - loss: 0.0087 - acc: 0.9970 - val_loss: 1.2845 - val_acc: 0.8644\n"
     ]
    }
   ],
   "source": [
    "import keras\n",
    "from matplotlib import pyplot as plt\n",
    "plot_points=[]\n",
    "plot_points2=[]\n",
    "model_hybrid.save('HYBRID')\n",
    "for i in range(epochs+1):\n",
    "    j = (i % 7) + 1\n",
    "    model_hybrid = tf.keras.models.load_model('HYBRID')\n",
    "    model_hybrid.compile(optimizer = key[j], loss = \n",
    "                         'binary_crossentropy', metrics = ['acc'])\n",
    "    if i!=0:\n",
    "        model_hybrid.set_weights(a)\n",
    "    history = model_hybrid.fit(x_train, y_train, epochs = 1, batch_size = 32, validation_data = validation)\n",
    "    a = np.array(model_hybrid.get_weights())\n",
    "    plot_points.append(history.history['val_loss'])\n",
    "    plot_points2.append(history.history['loss'])"
   ]
  },
  {
   "cell_type": "code",
   "execution_count": 174,
   "metadata": {},
   "outputs": [
    {
     "data": {
      "image/png": "[encoded data removed]",
      "text/plain": [
       "<Figure size 432x288 with 1 Axes>"
      ]
     },
     "metadata": {
      "needs_background": "light"
     },
     "output_type": "display_data"
    },
    {
     "data": {
      "text/plain": [
       "<Figure size 1080x720 with 0 Axes>"
      ]
     },
     "metadata": {},
     "output_type": "display_data"
    }
   ],
   "source": [
    "plt.plot(plot_points2)\n",
    "plt.plot(plot_points)\n",
    "plt.title('model loss')\n",
    "plt.ylabel('loss')\n",
    "plt.xlabel('epoch')\n",
    "plt.legend(['train', 'val'], loc='upper left')\n",
    "plt.figure(figsize = (15,10))\n",
    "plt.show()"
   ]
  },
  {
   "cell_type": "code",
   "execution_count": null,
   "metadata": {},
   "outputs": [],
   "source": []
  },
  {
   "cell_type": "code",
   "execution_count": null,
   "metadata": {},
   "outputs": [],
   "source": []
  },
  {
   "cell_type": "code",
   "execution_count": null,
   "metadata": {},
   "outputs": [],
   "source": [
    "# RAN TILL HERE RIGHT NOW #######################"
   ]
  },
  {
   "cell_type": "code",
   "execution_count": 221,
   "metadata": {},
   "outputs": [
    {
     "data": {
      "text/plain": [
       "<matplotlib.image.AxesImage at 0x1e578929a08>"
      ]
     },
     "execution_count": 221,
     "metadata": {},
     "output_type": "execute_result"
    },
    {
     "data": {
      "image/png": "[encoded data removed]",
      "text/plain": [
       "<Figure size 432x288 with 1 Axes>"
      ]
     },
     "metadata": {
      "needs_background": "light"
     },
     "output_type": "display_data"
    }
   ],
   "source": [
    "import tensorflow as tf\n",
    "mnist= tf.keras.datasets.mnist #28x28 images\n",
    "(x_train,y_train),(x_test,y_test)=mnist.load_data()\n",
    "#print(x_train[0])\n",
    "plt.imshow(x_train[0])\n",
    "\n",
    "x_train=tf.keras.utils.normalize(x_train,axis=1)\n",
    "x_test=tf.keras.utils.normalize(x_test,axis=1)\n",
    "plt.imshow(x_train[0])"
   ]
  },
  {
   "cell_type": "code",
   "execution_count": 231,
   "metadata": {},
   "outputs": [],
   "source": [
    "epochs = 30"
   ]
  },
  {
   "cell_type": "code",
   "execution_count": 232,
   "metadata": {},
   "outputs": [],
   "source": [
    "model_hybrid=tf.keras.models.Sequential()\n",
    "model_hybrid.add(tf.keras.layers.Flatten())\n",
    "model_hybrid.add(tf.keras.layers.Dense(128,activation=tf.nn.relu))\n",
    "model_hybrid.add(tf.keras.layers.Dense(128,activation=tf.nn.relu))\n",
    "model_hybrid.add(tf.keras.layers.Dense(128,activation=tf.nn.relu))\n",
    "model_hybrid.add(tf.keras.layers.Dense(10,activation=tf.nn.softmax))"
   ]
  },
  {
   "cell_type": "code",
   "execution_count": 233,
   "metadata": {},
   "outputs": [],
   "source": [
    "validation = (x_test, y_test)\n",
    "key = {1:'SGD', 2:'sgd', 3:'sgd', 4:'sgd', 5:'Adam', 6:'adam', 7:'adam'}"
   ]
  },
  {
   "cell_type": "code",
   "execution_count": 234,
   "metadata": {},
   "outputs": [
    {
     "name": "stdout",
     "output_type": "stream",
     "text": [
      "1875/1875 [==============================] - 5s 3ms/step - loss: 1.7087 - accuracy: 0.5513 - val_loss: 0.4163 - val_accuracy: 0.8858\n"
     ]
    },
    {
     "name": "stderr",
     "output_type": "stream",
     "text": [
      "c:\\users\\sharm\\appdata\\local\\programs\\python\\python37\\lib\\site-packages\\ipykernel_launcher.py:12: VisibleDeprecationWarning: Creating an ndarray from ragged nested sequences (which is a list-or-tuple of lists-or-tuples-or ndarrays with different lengths or shapes) is deprecated. If you meant to do this, you must specify 'dtype=object' when creating the ndarray\n",
      "  if sys.path[0] == '':\n"
     ]
    },
    {
     "name": "stdout",
     "output_type": "stream",
     "text": [
      "1875/1875 [==============================] - 6s 3ms/step - loss: 0.3902 - accuracy: 0.8876 - val_loss: 0.2911 - val_accuracy: 0.9141\n",
      "1875/1875 [==============================] - 6s 3ms/step - loss: 0.2973 - accuracy: 0.9134 - val_loss: 0.2524 - val_accuracy: 0.9273\n",
      "1875/1875 [==============================] - 6s 3ms/step - loss: 0.2448 - accuracy: 0.9282 - val_loss: 0.2177 - val_accuracy: 0.9363\n",
      "1875/1875 [==============================] - 6s 3ms/step - loss: 0.2163 - accuracy: 0.9347 - val_loss: 0.1351 - val_accuracy: 0.9581\n",
      "1875/1875 [==============================] - 6s 3ms/step - loss: 0.1042 - accuracy: 0.9676 - val_loss: 0.1046 - val_accuracy: 0.9666\n",
      "1875/1875 [==============================] - 5s 3ms/step - loss: 0.0707 - accuracy: 0.9772 - val_loss: 0.0987 - val_accuracy: 0.9688\n",
      "1875/1875 [==============================] - 5s 3ms/step - loss: 0.0348 - accuracy: 0.9886 - val_loss: 0.0740 - val_accuracy: 0.9767\n",
      "1875/1875 [==============================] - 6s 3ms/step - loss: 0.0249 - accuracy: 0.9924 - val_loss: 0.0715 - val_accuracy: 0.9786\n",
      "1875/1875 [==============================] - 6s 3ms/step - loss: 0.0227 - accuracy: 0.9936 - val_loss: 0.0705 - val_accuracy: 0.9793\n",
      "1875/1875 [==============================] - 6s 3ms/step - loss: 0.0212 - accuracy: 0.9941 - val_loss: 0.0701 - val_accuracy: 0.9792\n",
      "1875/1875 [==============================] - 6s 3ms/step - loss: 0.0495 - accuracy: 0.9844 - val_loss: 0.0934 - val_accuracy: 0.9718\n",
      "1875/1875 [==============================] - 6s 3ms/step - loss: 0.0387 - accuracy: 0.9877 - val_loss: 0.1073 - val_accuracy: 0.9704\n",
      "1875/1875 [==============================] - 6s 3ms/step - loss: 0.0304 - accuracy: 0.9896 - val_loss: 0.1132 - val_accuracy: 0.9739\n",
      "1875/1875 [==============================] - 6s 3ms/step - loss: 0.0148 - accuracy: 0.9947 - val_loss: 0.0898 - val_accuracy: 0.9778\n",
      "1875/1875 [==============================] - 6s 3ms/step - loss: 0.0082 - accuracy: 0.9978 - val_loss: 0.0876 - val_accuracy: 0.9788\n",
      "1875/1875 [==============================] - 6s 3ms/step - loss: 0.0077 - accuracy: 0.9981 - val_loss: 0.0870 - val_accuracy: 0.9787\n",
      "1875/1875 [==============================] - 6s 3ms/step - loss: 0.0069 - accuracy: 0.9983 - val_loss: 0.0868 - val_accuracy: 0.9788\n",
      "1875/1875 [==============================] - 6s 3ms/step - loss: 0.0253 - accuracy: 0.9919 - val_loss: 0.1128 - val_accuracy: 0.9720\n",
      "1875/1875 [==============================] - 6s 3ms/step - loss: 0.0231 - accuracy: 0.9926 - val_loss: 0.1085 - val_accuracy: 0.9746\n",
      "1875/1875 [==============================] - 6s 3ms/step - loss: 0.0215 - accuracy: 0.9929 - val_loss: 0.1224 - val_accuracy: 0.9724\n",
      "1875/1875 [==============================] - 6s 3ms/step - loss: 0.0109 - accuracy: 0.9965 - val_loss: 0.0975 - val_accuracy: 0.9776\n",
      "1875/1875 [==============================] - 6s 3ms/step - loss: 0.0057 - accuracy: 0.9985 - val_loss: 0.0950 - val_accuracy: 0.9789\n",
      "1875/1875 [==============================] - 5s 3ms/step - loss: 0.0047 - accuracy: 0.9989 - val_loss: 0.0943 - val_accuracy: 0.9789\n",
      "1875/1875 [==============================] - 6s 3ms/step - loss: 0.0042 - accuracy: 0.9991 - val_loss: 0.0942 - val_accuracy: 0.9791\n",
      "1875/1875 [==============================] - 6s 3ms/step - loss: 0.0191 - accuracy: 0.9941 - val_loss: 0.1221 - val_accuracy: 0.9736\n",
      "1875/1875 [==============================] - 6s 3ms/step - loss: 0.0187 - accuracy: 0.9942 - val_loss: 0.1479 - val_accuracy: 0.9730\n",
      "1875/1875 [==============================] - 5s 3ms/step - loss: 0.0170 - accuracy: 0.9947 - val_loss: 0.1335 - val_accuracy: 0.9753\n",
      "1875/1875 [==============================] - 6s 3ms/step - loss: 0.0094 - accuracy: 0.9972 - val_loss: 0.1075 - val_accuracy: 0.9803\n",
      "1875/1875 [==============================] - 5s 3ms/step - loss: 0.0036 - accuracy: 0.9991 - val_loss: 0.1063 - val_accuracy: 0.9815\n",
      "1875/1875 [==============================] - 6s 3ms/step - loss: 0.0022 - accuracy: 0.9996 - val_loss: 0.1058 - val_accuracy: 0.9814\n"
     ]
    }
   ],
   "source": [
    "import keras\n",
    "from matplotlib import pyplot as plt\n",
    "plot_points=[]\n",
    "plot_points2=[]\n",
    "for i in range(epochs+1):\n",
    "    j = (i % 7) + 1\n",
    "    model_hybrid.compile(optimizer = key[j], loss = \n",
    "                         'sparse_categorical_crossentropy', metrics = ['accuracy'])\n",
    "    if i!=0:\n",
    "        model_hybrid.set_weights(a)\n",
    "    history = model_hybrid.fit(x_train,y_train, epochs=1,batch_size=32,validation_data=(x_test, y_test))\n",
    "    a = np.array(model_hybrid.get_weights())\n",
    "    plot_points.append(history.history['val_loss'])\n",
    "    plot_points2.append(history.history['loss'])"
   ]
  },
  {
   "cell_type": "code",
   "execution_count": 235,
   "metadata": {},
   "outputs": [
    {
     "data": {
      "image/png": "[encoded data removed]",
      "text/plain": [
       "<Figure size 432x288 with 1 Axes>"
      ]
     },
     "metadata": {
      "needs_background": "light"
     },
     "output_type": "display_data"
    },
    {
     "data": {
      "text/plain": [
       "<Figure size 1080x720 with 0 Axes>"
      ]
     },
     "metadata": {},
     "output_type": "display_data"
    }
   ],
   "source": [
    "plt.plot(plot_points2)\n",
    "plt.plot(plot_points)\n",
    "plt.title('model loss')\n",
    "plt.ylabel('loss')\n",
    "plt.xlabel('epoch')\n",
    "plt.legend(['train', 'val'], loc='upper left')\n",
    "plt.figure(figsize = (15,10))\n",
    "plt.show()"
   ]
  },
  {
   "cell_type": "code",
   "execution_count": null,
   "metadata": {},
   "outputs": [],
   "source": []
  },
  {
   "cell_type": "code",
   "execution_count": null,
   "metadata": {},
   "outputs": [],
   "source": []
  },
  {
   "cell_type": "code",
   "execution_count": null,
   "metadata": {},
   "outputs": [],
   "source": []
  },
  {
   "cell_type": "code",
   "execution_count": null,
   "metadata": {},
   "outputs": [],
   "source": []
  },
  {
   "cell_type": "code",
   "execution_count": null,
   "metadata": {},
   "outputs": [],
   "source": []
  },
  {
   "cell_type": "code",
   "execution_count": null,
   "metadata": {},
   "outputs": [],
   "source": [
    "#model train with given epochs\n",
    "original_hist=model.fit(x_train,y_train, epochs=20,batch_size=32,validation_data=(x_test, y_test))"
   ]
  },
  {
   "cell_type": "code",
   "execution_count": null,
   "metadata": {},
   "outputs": [],
   "source": []
  },
  {
   "cell_type": "code",
   "execution_count": null,
   "metadata": {},
   "outputs": [],
   "source": []
  },
  {
   "cell_type": "code",
   "execution_count": null,
   "metadata": {},
   "outputs": [],
   "source": []
  },
  {
   "cell_type": "code",
   "execution_count": null,
   "metadata": {},
   "outputs": [],
   "source": []
  },
  {
   "cell_type": "code",
   "execution_count": null,
   "metadata": {},
   "outputs": [],
   "source": []
  },
  {
   "cell_type": "code",
   "execution_count": null,
   "metadata": {},
   "outputs": [],
   "source": []
  },
  {
   "cell_type": "code",
   "execution_count": null,
   "metadata": {},
   "outputs": [],
   "source": []
  },
  {
   "cell_type": "code",
   "execution_count": null,
   "metadata": {},
   "outputs": [],
   "source": []
  },
  {
   "cell_type": "code",
   "execution_count": null,
   "metadata": {},
   "outputs": [],
   "source": []
  },
  {
   "cell_type": "code",
   "execution_count": null,
   "metadata": {},
   "outputs": [],
   "source": []
  },
  {
   "cell_type": "code",
   "execution_count": null,
   "metadata": {},
   "outputs": [],
   "source": []
  },
  {
   "cell_type": "code",
   "execution_count": null,
   "metadata": {},
   "outputs": [],
   "source": []
  },
  {
   "cell_type": "code",
   "execution_count": null,
   "metadata": {},
   "outputs": [],
   "source": []
  },
  {
   "cell_type": "code",
   "execution_count": null,
   "metadata": {},
   "outputs": [],
   "source": []
  },
  {
   "cell_type": "code",
   "execution_count": 44,
   "metadata": {},
   "outputs": [],
   "source": [
    "validation = (x_test, y_test)\n",
    "x1,x2,y=[],[],[list(range(1,epochs+1))]\n",
    "key = {1:'SGD', 2:'RMSprop', 3:'AdaGrad', 4:'AdaDelta', 5:'Adam', 6:'Nadam', 7:'Adamax'}"
   ]
  },
  {
   "cell_type": "code",
   "execution_count": 45,
   "metadata": {},
   "outputs": [
    {
     "name": "stdout",
     "output_type": "stream",
     "text": [
      "INFO:tensorflow:Assets written to: HYBRID\\assets\n",
      "WARNING:tensorflow:No training configuration found in save file, so the model was *not* compiled. Compile it manually.\n",
      "49/49 [==============================] - 5s 99ms/step - loss: 0.6918 - acc: 0.5193 - val_loss: 0.6875 - val_acc: 0.5656\n",
      "INFO:tensorflow:Assets written to: HYBRID\\assets\n",
      "[0.5367199778556824]\n",
      "[0.5655999779701233]\n",
      "49/49 [==============================] - 8s 153ms/step - loss: 0.6301 - acc: 0.7376 - val_loss: 0.2871 - val_acc: 0.8832\n",
      "INFO:tensorflow:Assets written to: HYBRID\\assets\n",
      "[0.8050400018692017]\n",
      "[0.8832399845123291]\n",
      "49/49 [==============================] - 6s 106ms/step - loss: 0.1831 - acc: 0.9353 - val_loss: 0.2751 - val_acc: 0.8882\n",
      "INFO:tensorflow:Assets written to: HYBRID\\assets\n",
      "[0.9389200210571289]\n",
      "[0.888159990310669]\n",
      "49/49 [==============================] - 8s 109ms/step - loss: 0.1756 - acc: 0.9395 - val_loss: 0.2745 - val_acc: 0.8884\n",
      "INFO:tensorflow:Assets written to: HYBRID\\assets\n",
      "[0.9408800005912781]\n",
      "[0.8884400129318237]\n",
      "49/49 [==============================] - 6s 103ms/step - loss: 0.1783 - acc: 0.9323 - val_loss: 0.2944 - val_acc: 0.8801\n",
      "INFO:tensorflow:Assets written to: HYBRID\\assets\n",
      "[0.9327600002288818]\n",
      "[0.880079984664917]\n",
      "49/49 [==============================] - 8s 144ms/step - loss: 0.0731 - acc: 0.9764 - val_loss: 0.3861 - val_acc: 0.8750\n",
      "INFO:tensorflow:Assets written to: HYBRID\\assets\n",
      "[0.9797999858856201]\n",
      "[0.8750399947166443]\n",
      "49/49 [==============================] - 5s 101ms/step - loss: 0.0100 - acc: 0.9974 - val_loss: 0.5758 - val_acc: 0.8737\n",
      "INFO:tensorflow:Assets written to: HYBRID\\assets\n",
      "[0.9975200295448303]\n",
      "[0.8736799955368042]\n",
      "49/49 [==============================] - 6s 99ms/step - loss: 0.0026 - acc: 0.9997 - val_loss: 0.5779 - val_acc: 0.8736\n",
      "INFO:tensorflow:Assets written to: HYBRID\\assets\n",
      "[0.9997199773788452]\n",
      "[0.8736400008201599]\n",
      "49/49 [==============================] - 6s 121ms/step - loss: 0.7928 - acc: 0.9499 - val_loss: 0.6365 - val_acc: 0.8712\n",
      "INFO:tensorflow:Assets written to: HYBRID\\assets\n",
      "[0.980239987373352]\n",
      "[0.8712400197982788]\n",
      "49/49 [==============================] - 5s 100ms/step - loss: 0.0017 - acc: 0.9998 - val_loss: 0.6371 - val_acc: 0.8712\n",
      "INFO:tensorflow:Assets written to: HYBRID\\assets\n",
      "[0.9998000264167786]\n",
      "[0.8712400197982788]\n",
      "49/49 [==============================] - 5s 106ms/step - loss: 0.0016 - acc: 0.9999 - val_loss: 0.6372 - val_acc: 0.8712\n",
      "INFO:tensorflow:Assets written to: HYBRID\\assets\n",
      "[0.9998000264167786]\n",
      "[0.8712400197982788]\n",
      "49/49 [==============================] - 6s 111ms/step - loss: 0.0019 - acc: 0.9995 - val_loss: 0.8916 - val_acc: 0.8636\n",
      "INFO:tensorflow:Assets written to: HYBRID\\assets\n",
      "[0.9993600249290466]\n",
      "[0.8635600209236145]\n",
      "49/49 [==============================] - 8s 145ms/step - loss: 0.0107 - acc: 0.9982 - val_loss: 0.9083 - val_acc: 0.8677\n",
      "INFO:tensorflow:Assets written to: HYBRID\\assets\n",
      "[0.9991199970245361]\n",
      "[0.867680013179779]\n",
      "49/49 [==============================] - 5s 101ms/step - loss: 0.0016 - acc: 0.9996 - val_loss: 1.0786 - val_acc: 0.8688\n",
      "INFO:tensorflow:Assets written to: HYBRID\\assets\n",
      "[0.9997599720954895]\n",
      "[0.8687999844551086]\n",
      "49/49 [==============================] - 5s 94ms/step - loss: 4.5706e-05 - acc: 1.0000 - val_loss: 1.0785 - val_acc: 0.8689\n",
      "INFO:tensorflow:Assets written to: HYBRID\\assets\n",
      "[1.0]\n",
      "[0.8688799738883972]\n",
      "49/49 [==============================] - 7s 137ms/step - loss: 0.7337 - acc: 0.9674 - val_loss: 1.2055 - val_acc: 0.8419\n",
      "INFO:tensorflow:Assets written to: HYBRID\\assets\n",
      "[0.9886000156402588]\n",
      "[0.841920018196106]\n",
      "49/49 [==============================] - 5s 96ms/step - loss: 0.0042 - acc: 0.9989 - val_loss: 1.1310 - val_acc: 0.8485\n",
      "INFO:tensorflow:Assets written to: HYBRID\\assets\n",
      "[0.999239981174469]\n",
      "[0.8485199809074402]\n",
      "49/49 [==============================] - 5s 102ms/step - loss: 0.0022 - acc: 0.9997 - val_loss: 1.1224 - val_acc: 0.8494\n",
      "INFO:tensorflow:Assets written to: HYBRID\\assets\n",
      "[0.9996799826622009]\n",
      "[0.849399983882904]\n",
      "49/49 [==============================] - 7s 129ms/step - loss: 0.0024 - acc: 0.9991 - val_loss: 1.0636 - val_acc: 0.8598\n",
      "INFO:tensorflow:Assets written to: HYBRID\\assets\n",
      "[0.9993600249290466]\n",
      "[0.8597599864006042]\n",
      "49/49 [==============================] - 9s 175ms/step - loss: 0.0179 - acc: 0.9982 - val_loss: 0.6627 - val_acc: 0.8407\n",
      "INFO:tensorflow:Assets written to: HYBRID\\assets\n",
      "[0.9847599864006042]\n",
      "[0.8406800031661987]\n",
      "49/49 [==============================] - 6s 106ms/step - loss: 0.0053 - acc: 0.9993 - val_loss: 1.0980 - val_acc: 0.8698\n",
      "INFO:tensorflow:Assets written to: HYBRID\\assets\n",
      "[0.9995599985122681]\n",
      "[0.8697999715805054]\n",
      "49/49 [==============================] - 6s 107ms/step - loss: 6.4203e-05 - acc: 1.0000 - val_loss: 1.0982 - val_acc: 0.8696\n",
      "INFO:tensorflow:Assets written to: HYBRID\\assets\n",
      "[0.9999600052833557]\n",
      "[0.8696399927139282]\n",
      "49/49 [==============================] - 7s 127ms/step - loss: 0.4643 - acc: 0.9719 - val_loss: 0.9469 - val_acc: 0.8719\n",
      "INFO:tensorflow:Assets written to: HYBRID\\assets\n",
      "[0.9904000163078308]\n",
      "[0.8718799948692322]\n",
      "49/49 [==============================] - 5s 100ms/step - loss: 4.0229e-05 - acc: 1.0000 - val_loss: 0.9470 - val_acc: 0.8719\n",
      "INFO:tensorflow:Assets written to: HYBRID\\assets\n",
      "[1.0]\n",
      "[0.8718799948692322]\n",
      "49/49 [==============================] - 5s 99ms/step - loss: 4.0191e-05 - acc: 1.0000 - val_loss: 0.9470 - val_acc: 0.8719\n",
      "INFO:tensorflow:Assets written to: HYBRID\\assets\n",
      "[1.0]\n",
      "[0.8718799948692322]\n",
      "49/49 [==============================] - 5s 98ms/step - loss: 2.2948e-05 - acc: 1.0000 - val_loss: 1.3885 - val_acc: 0.8710\n",
      "INFO:tensorflow:Assets written to: HYBRID\\assets\n",
      "[1.0]\n",
      "[0.8710399866104126]\n",
      "49/49 [==============================] - 8s 147ms/step - loss: 5.9049e-07 - acc: 1.0000 - val_loss: 1.6666 - val_acc: 0.8725\n",
      "INFO:tensorflow:Assets written to: HYBRID\\assets\n",
      "[1.0]\n",
      "[0.8725200295448303]\n",
      "49/49 [==============================] - 5s 101ms/step - loss: 2.9551e-08 - acc: 1.0000 - val_loss: 1.7540 - val_acc: 0.8717\n",
      "INFO:tensorflow:Assets written to: HYBRID\\assets\n",
      "[1.0]\n",
      "[0.8716800212860107]\n",
      "49/49 [==============================] - 5s 90ms/step - loss: 1.3125e-08 - acc: 1.0000 - val_loss: 1.7540 - val_acc: 0.8717\n",
      "INFO:tensorflow:Assets written to: HYBRID\\assets\n",
      "[1.0]\n",
      "[0.8716800212860107]\n",
      "49/49 [==============================] - 6s 122ms/step - loss: 1.1222e-08 - acc: 1.0000 - val_loss: 1.8101 - val_acc: 0.8728\n",
      "INFO:tensorflow:Assets written to: HYBRID\\assets\n",
      "[1.0]\n",
      "[0.872759997844696]\n",
      "49/49 [==============================] - 5s 98ms/step - loss: 6.3587e-09 - acc: 1.0000 - val_loss: 1.8101 - val_acc: 0.8728\n",
      "INFO:tensorflow:Assets written to: HYBRID\\assets\n",
      "[1.0]\n",
      "[0.872759997844696]\n",
      "49/49 [==============================] - 5s 100ms/step - loss: 7.4160e-09 - acc: 1.0000 - val_loss: 1.8101 - val_acc: 0.8728\n",
      "INFO:tensorflow:Assets written to: HYBRID\\assets\n",
      "[1.0]\n",
      "[0.872759997844696]\n",
      "49/49 [==============================] - 5s 98ms/step - loss: 6.7757e-09 - acc: 1.0000 - val_loss: 1.8158 - val_acc: 0.8728\n",
      "INFO:tensorflow:Assets written to: HYBRID\\assets\n",
      "[1.0]\n",
      "[0.8728399872779846]\n",
      "49/49 [==============================] - 7s 141ms/step - loss: 6.9152e-09 - acc: 1.0000 - val_loss: 1.8450 - val_acc: 0.8729\n",
      "INFO:tensorflow:Assets written to: HYBRID\\assets\n",
      "[1.0]\n",
      "[0.8728799819946289]\n",
      "49/49 [==============================] - 5s 105ms/step - loss: 5.1647e-09 - acc: 1.0000 - val_loss: 1.8661 - val_acc: 0.8729\n",
      "INFO:tensorflow:Assets written to: HYBRID\\assets\n",
      "[1.0]\n",
      "[0.8729199767112732]\n",
      "49/49 [==============================] - 5s 95ms/step - loss: 4.5338e-09 - acc: 1.0000 - val_loss: 1.8661 - val_acc: 0.8729\n",
      "INFO:tensorflow:Assets written to: HYBRID\\assets\n",
      "[1.0]\n",
      "[0.8729199767112732]\n",
      "49/49 [==============================] - 6s 125ms/step - loss: 4.4357e-09 - acc: 1.0000 - val_loss: 1.8839 - val_acc: 0.8731\n",
      "INFO:tensorflow:Assets written to: HYBRID\\assets\n",
      "[1.0]\n",
      "[0.8730800151824951]\n",
      "49/49 [==============================] - 5s 98ms/step - loss: 3.9156e-09 - acc: 1.0000 - val_loss: 1.8839 - val_acc: 0.8731\n",
      "INFO:tensorflow:Assets written to: HYBRID\\assets\n",
      "[1.0]\n",
      "[0.8730800151824951]\n",
      "49/49 [==============================] - 6s 108ms/step - loss: 3.9807e-09 - acc: 1.0000 - val_loss: 1.8839 - val_acc: 0.8731\n",
      "INFO:tensorflow:Assets written to: HYBRID\\assets\n"
     ]
    },
    {
     "name": "stdout",
     "output_type": "stream",
     "text": [
      "[1.0]\n",
      "[0.8730800151824951]\n",
      "49/49 [==============================] - 6s 120ms/step - loss: 3.8219e-09 - acc: 1.0000 - val_loss: 1.8859 - val_acc: 0.8731\n",
      "INFO:tensorflow:Assets written to: HYBRID\\assets\n",
      "[1.0]\n",
      "[0.8730800151824951]\n",
      "49/49 [==============================] - 9s 155ms/step - loss: 3.6722e-09 - acc: 1.0000 - val_loss: 1.8990 - val_acc: 0.8730\n",
      "INFO:tensorflow:Assets written to: HYBRID\\assets\n",
      "[1.0]\n",
      "[0.8730400204658508]\n",
      "49/49 [==============================] - 6s 116ms/step - loss: 3.3659e-09 - acc: 1.0000 - val_loss: 1.9118 - val_acc: 0.8730\n",
      "INFO:tensorflow:Assets written to: HYBRID\\assets\n",
      "[1.0]\n",
      "[0.8730400204658508]\n",
      "49/49 [==============================] - 6s 108ms/step - loss: 2.9553e-09 - acc: 1.0000 - val_loss: 1.9118 - val_acc: 0.8730\n",
      "INFO:tensorflow:Assets written to: HYBRID\\assets\n",
      "[1.0]\n",
      "[0.8730400204658508]\n",
      "49/49 [==============================] - 7s 141ms/step - loss: 2.7394e-09 - acc: 1.0000 - val_loss: 1.9225 - val_acc: 0.8730\n",
      "INFO:tensorflow:Assets written to: HYBRID\\assets\n",
      "[1.0]\n",
      "[0.8730400204658508]\n",
      "49/49 [==============================] - 6s 112ms/step - loss: 2.3607e-09 - acc: 1.0000 - val_loss: 1.9225 - val_acc: 0.8730\n",
      "INFO:tensorflow:Assets written to: HYBRID\\assets\n",
      "[1.0]\n",
      "[0.8730400204658508]\n",
      "49/49 [==============================] - 6s 118ms/step - loss: 2.5712e-09 - acc: 1.0000 - val_loss: 1.9225 - val_acc: 0.8730\n",
      "INFO:tensorflow:Assets written to: HYBRID\\assets\n",
      "[1.0]\n",
      "[0.8730400204658508]\n",
      "49/49 [==============================] - 6s 118ms/step - loss: 2.6595e-09 - acc: 1.0000 - val_loss: 1.9236 - val_acc: 0.8731\n",
      "INFO:tensorflow:Assets written to: HYBRID\\assets\n",
      "[1.0]\n",
      "[0.8730800151824951]\n",
      "49/49 [==============================] - 10s 196ms/step - loss: 2.2759e-09 - acc: 1.0000 - val_loss: 1.9318 - val_acc: 0.8730\n",
      "INFO:tensorflow:Assets written to: HYBRID\\assets\n",
      "[1.0]\n",
      "[0.8730400204658508]\n",
      "49/49 [==============================] - 9s 167ms/step - loss: 2.1576e-09 - acc: 1.0000 - val_loss: 1.9395 - val_acc: 0.8732\n",
      "INFO:tensorflow:Assets written to: HYBRID\\assets\n",
      "[1.0]\n",
      "[0.8731600046157837]\n",
      "49/49 [==============================] - 6s 115ms/step - loss: 2.1206e-09 - acc: 1.0000 - val_loss: 1.9395 - val_acc: 0.8732\n",
      "INFO:tensorflow:Assets written to: HYBRID\\assets\n",
      "[1.0]\n",
      "[0.8731600046157837]\n",
      "49/49 [==============================] - 8s 150ms/step - loss: 2.3392e-09 - acc: 1.0000 - val_loss: 1.9473 - val_acc: 0.8730\n",
      "INFO:tensorflow:Assets written to: HYBRID\\assets\n",
      "[1.0]\n",
      "[0.8730400204658508]\n",
      "49/49 [==============================] - 7s 138ms/step - loss: 1.8972e-09 - acc: 1.0000 - val_loss: 1.9473 - val_acc: 0.8730\n",
      "INFO:tensorflow:Assets written to: HYBRID\\assets\n",
      "[1.0]\n",
      "[0.8730400204658508]\n",
      "49/49 [==============================] - 9s 170ms/step - loss: 1.9891e-09 - acc: 1.0000 - val_loss: 1.9473 - val_acc: 0.8730\n",
      "INFO:tensorflow:Assets written to: HYBRID\\assets\n",
      "[1.0]\n",
      "[0.8730400204658508]\n",
      "49/49 [==============================] - 13s 171ms/step - loss: 1.9932e-09 - acc: 1.0000 - val_loss: 1.9482 - val_acc: 0.8732\n",
      "INFO:tensorflow:Assets written to: HYBRID\\assets\n",
      "[1.0]\n",
      "[0.8731600046157837]\n",
      "49/49 [==============================] - 11s 215ms/step - loss: 1.9412e-09 - acc: 1.0000 - val_loss: 1.9542 - val_acc: 0.8731\n",
      "INFO:tensorflow:Assets written to: HYBRID\\assets\n",
      "[1.0]\n",
      "[0.8730800151824951]\n",
      "49/49 [==============================] - 8s 154ms/step - loss: 1.9062e-09 - acc: 1.0000 - val_loss: 1.9610 - val_acc: 0.8732\n",
      "INFO:tensorflow:Assets written to: HYBRID\\assets\n",
      "[1.0]\n",
      "[0.873199999332428]\n",
      "49/49 [==============================] - 8s 143ms/step - loss: 1.8870e-09 - acc: 1.0000 - val_loss: 1.9610 - val_acc: 0.8732\n",
      "INFO:tensorflow:Assets written to: HYBRID\\assets\n",
      "[1.0]\n",
      "[0.873199999332428]\n",
      "49/49 [==============================] - 13s 255ms/step - loss: 1.6874e-09 - acc: 1.0000 - val_loss: 1.9663 - val_acc: 0.8733\n",
      "INFO:tensorflow:Assets written to: HYBRID\\assets\n",
      "[1.0]\n",
      "[0.8732799887657166]\n",
      "49/49 [==============================] - 8s 160ms/step - loss: 1.8341e-09 - acc: 1.0000 - val_loss: 1.9663 - val_acc: 0.8733\n",
      "INFO:tensorflow:Assets written to: HYBRID\\assets\n",
      "[1.0]\n",
      "[0.8732799887657166]\n",
      "49/49 [==============================] - 8s 153ms/step - loss: 1.7233e-09 - acc: 1.0000 - val_loss: 1.9663 - val_acc: 0.8733\n",
      "INFO:tensorflow:Assets written to: HYBRID\\assets\n",
      "[1.0]\n",
      "[0.8732799887657166]\n",
      "49/49 [==============================] - 9s 161ms/step - loss: 1.6561e-09 - acc: 1.0000 - val_loss: 1.9673 - val_acc: 0.8734\n",
      "INFO:tensorflow:Assets written to: HYBRID\\assets\n",
      "[1.0]\n",
      "[0.8733599781990051]\n",
      "49/49 [==============================] - 12s 216ms/step - loss: 1.4663e-09 - acc: 1.0000 - val_loss: 1.9721 - val_acc: 0.8734\n",
      "INFO:tensorflow:Assets written to: HYBRID\\assets\n",
      "[1.0]\n",
      "[0.8734400272369385]\n",
      "49/49 [==============================] - 9s 163ms/step - loss: 1.6570e-09 - acc: 1.0000 - val_loss: 1.9774 - val_acc: 0.8734\n",
      "INFO:tensorflow:Assets written to: HYBRID\\assets\n",
      "[1.0]\n",
      "[0.8734400272369385]\n",
      "49/49 [==============================] - 8s 148ms/step - loss: 1.5790e-09 - acc: 1.0000 - val_loss: 1.9774 - val_acc: 0.8734\n",
      "INFO:tensorflow:Assets written to: HYBRID\\assets\n",
      "[1.0]\n",
      "[0.8734400272369385]\n",
      "49/49 [==============================] - 9s 179ms/step - loss: 1.5804e-09 - acc: 1.0000 - val_loss: 1.9819 - val_acc: 0.8734\n",
      "INFO:tensorflow:Assets written to: HYBRID\\assets\n",
      "[1.0]\n",
      "[0.8734400272369385]\n",
      "49/49 [==============================] - 8s 147ms/step - loss: 1.4661e-09 - acc: 1.0000 - val_loss: 1.9819 - val_acc: 0.8734\n",
      "INFO:tensorflow:Assets written to: HYBRID\\assets\n",
      "[1.0]\n",
      "[0.8734400272369385]\n",
      "49/49 [==============================] - 9s 148ms/step - loss: 1.4554e-09 - acc: 1.0000 - val_loss: 1.9819 - val_acc: 0.8734\n",
      "INFO:tensorflow:Assets written to: HYBRID\\assets\n",
      "[1.0]\n",
      "[0.8734400272369385]\n",
      "49/49 [==============================] - 7s 140ms/step - loss: 1.3489e-09 - acc: 1.0000 - val_loss: 1.9826 - val_acc: 0.8735\n",
      "INFO:tensorflow:Assets written to: HYBRID\\assets\n",
      "[1.0]\n",
      "[0.8734800219535828]\n",
      "49/49 [==============================] - 11s 210ms/step - loss: 1.4232e-09 - acc: 1.0000 - val_loss: 1.9869 - val_acc: 0.8734\n",
      "INFO:tensorflow:Assets written to: HYBRID\\assets\n",
      "[1.0]\n",
      "[0.8734400272369385]\n",
      "49/49 [==============================] - 8s 153ms/step - loss: 1.2415e-09 - acc: 1.0000 - val_loss: 1.9904 - val_acc: 0.8735\n",
      "INFO:tensorflow:Assets written to: HYBRID\\assets\n",
      "[1.0]\n",
      "[0.8734800219535828]\n",
      "49/49 [==============================] - 8s 155ms/step - loss: 1.4125e-09 - acc: 1.0000 - val_loss: 1.9904 - val_acc: 0.8735\n",
      "INFO:tensorflow:Assets written to: HYBRID\\assets\n",
      "[1.0]\n",
      "[0.8734800219535828]\n",
      "49/49 [==============================] - 10s 182ms/step - loss: 1.3555e-09 - acc: 1.0000 - val_loss: 1.9949 - val_acc: 0.8734\n",
      "INFO:tensorflow:Assets written to: HYBRID\\assets\n",
      "[1.0]\n",
      "[0.8733599781990051]\n",
      "49/49 [==============================] - 8s 149ms/step - loss: 1.2914e-09 - acc: 1.0000 - val_loss: 1.9949 - val_acc: 0.8734\n",
      "INFO:tensorflow:Assets written to: HYBRID\\assets\n",
      "[1.0]\n",
      "[0.8733599781990051]\n",
      "49/49 [==============================] - 8s 155ms/step - loss: 1.2777e-09 - acc: 1.0000 - val_loss: 1.9949 - val_acc: 0.8734\n",
      "INFO:tensorflow:Assets written to: HYBRID\\assets\n",
      "[1.0]\n",
      "[0.8733599781990051]\n",
      "49/49 [==============================] - 8s 150ms/step - loss: 1.2494e-09 - acc: 1.0000 - val_loss: 1.9955 - val_acc: 0.8734\n",
      "INFO:tensorflow:Assets written to: HYBRID\\assets\n",
      "[1.0]\n",
      "[0.8733599781990051]\n",
      "49/49 [==============================] - 13s 221ms/step - loss: 1.2538e-09 - acc: 1.0000 - val_loss: 1.9993 - val_acc: 0.8734\n",
      "INFO:tensorflow:Assets written to: HYBRID\\assets\n",
      "[1.0]\n",
      "[0.8733999729156494]\n",
      "49/49 [==============================] - 8s 158ms/step - loss: 1.2480e-09 - acc: 1.0000 - val_loss: 2.0039 - val_acc: 0.8734\n",
      "INFO:tensorflow:Assets written to: HYBRID\\assets\n",
      "[1.0]\n",
      "[0.8734400272369385]\n",
      "49/49 [==============================] - 8s 159ms/step - loss: 1.2347e-09 - acc: 1.0000 - val_loss: 2.0039 - val_acc: 0.8734\n",
      "INFO:tensorflow:Assets written to: HYBRID\\assets\n",
      "[1.0]\n",
      "[0.8734400272369385]\n",
      "49/49 [==============================] - 10s 187ms/step - loss: 1.1565e-09 - acc: 1.0000 - val_loss: 2.0065 - val_acc: 0.8734\n",
      "INFO:tensorflow:Assets written to: HYBRID\\assets\n",
      "[1.0]\n",
      "[0.8734400272369385]\n",
      "49/49 [==============================] - 8s 166ms/step - loss: 1.1390e-09 - acc: 1.0000 - val_loss: 2.0065 - val_acc: 0.8734\n"
     ]
    },
    {
     "name": "stdout",
     "output_type": "stream",
     "text": [
      "INFO:tensorflow:Assets written to: HYBRID\\assets\n",
      "[1.0]\n",
      "[0.8734400272369385]\n",
      "49/49 [==============================] - 9s 171ms/step - loss: 1.0995e-09 - acc: 1.0000 - val_loss: 2.0065 - val_acc: 0.8734\n",
      "INFO:tensorflow:Assets written to: HYBRID\\assets\n",
      "[1.0]\n",
      "[0.8734400272369385]\n",
      "49/49 [==============================] - 8s 162ms/step - loss: 1.0970e-09 - acc: 1.0000 - val_loss: 2.0073 - val_acc: 0.8734\n",
      "INFO:tensorflow:Assets written to: HYBRID\\assets\n",
      "[1.0]\n",
      "[0.8733999729156494]\n",
      "49/49 [==============================] - 11s 202ms/step - loss: 1.1066e-09 - acc: 1.0000 - val_loss: 2.0112 - val_acc: 0.8735\n",
      "INFO:tensorflow:Assets written to: HYBRID\\assets\n",
      "[1.0]\n",
      "[0.873520016670227]\n",
      "49/49 [==============================] - 9s 182ms/step - loss: 1.1820e-09 - acc: 1.0000 - val_loss: 2.0141 - val_acc: 0.8734\n",
      "INFO:tensorflow:Assets written to: HYBRID\\assets\n",
      "[1.0]\n",
      "[0.8734400272369385]\n",
      "49/49 [==============================] - 10s 160ms/step - loss: 1.0473e-09 - acc: 1.0000 - val_loss: 2.0141 - val_acc: 0.8734\n",
      "INFO:tensorflow:Assets written to: HYBRID\\assets\n",
      "[1.0]\n",
      "[0.8734400272369385]\n",
      "49/49 [==============================] - 10s 191ms/step - loss: 9.7964e-10 - acc: 1.0000 - val_loss: 2.0172 - val_acc: 0.8735\n",
      "INFO:tensorflow:Assets written to: HYBRID\\assets\n",
      "[1.0]\n",
      "[0.873520016670227]\n",
      "49/49 [==============================] - 8s 164ms/step - loss: 1.0638e-09 - acc: 1.0000 - val_loss: 2.0172 - val_acc: 0.8735\n",
      "INFO:tensorflow:Assets written to: HYBRID\\assets\n",
      "[1.0]\n",
      "[0.873520016670227]\n",
      "49/49 [==============================] - 9s 170ms/step - loss: 1.0518e-09 - acc: 1.0000 - val_loss: 2.0172 - val_acc: 0.8735\n",
      "INFO:tensorflow:Assets written to: HYBRID\\assets\n",
      "[1.0]\n",
      "[0.873520016670227]\n",
      "49/49 [==============================] - 8s 160ms/step - loss: 1.0065e-09 - acc: 1.0000 - val_loss: 2.0179 - val_acc: 0.8735\n",
      "INFO:tensorflow:Assets written to: HYBRID\\assets\n",
      "[1.0]\n",
      "[0.8734800219535828]\n",
      "49/49 [==============================] - 11s 210ms/step - loss: 1.0777e-09 - acc: 1.0000 - val_loss: 2.0210 - val_acc: 0.8734\n",
      "INFO:tensorflow:Assets written to: HYBRID\\assets\n",
      "[1.0]\n",
      "[0.8734400272369385]\n",
      "49/49 [==============================] - 8s 154ms/step - loss: 1.0621e-09 - acc: 1.0000 - val_loss: 2.0243 - val_acc: 0.8734\n",
      "INFO:tensorflow:Assets written to: HYBRID\\assets\n",
      "[1.0]\n",
      "[0.8734400272369385]\n",
      "49/49 [==============================] - 9s 167ms/step - loss: 9.6370e-10 - acc: 1.0000 - val_loss: 2.0243 - val_acc: 0.8734\n",
      "INFO:tensorflow:Assets written to: HYBRID\\assets\n",
      "[1.0]\n",
      "[0.8734400272369385]\n",
      "49/49 [==============================] - 11s 203ms/step - loss: 9.9766e-10 - acc: 1.0000 - val_loss: 2.0275 - val_acc: 0.8733\n",
      "INFO:tensorflow:Assets written to: HYBRID\\assets\n",
      "[1.0]\n",
      "[0.8733199834823608]\n",
      "49/49 [==============================] - 9s 173ms/step - loss: 1.0214e-09 - acc: 1.0000 - val_loss: 2.0275 - val_acc: 0.8733\n",
      "INFO:tensorflow:Assets written to: HYBRID\\assets\n",
      "[1.0]\n",
      "[0.8733199834823608]\n",
      "49/49 [==============================] - 9s 178ms/step - loss: 1.0115e-09 - acc: 1.0000 - val_loss: 2.0275 - val_acc: 0.8733\n",
      "INFO:tensorflow:Assets written to: HYBRID\\assets\n",
      "[1.0]\n",
      "[0.8733199834823608]\n",
      "49/49 [==============================] - 9s 168ms/step - loss: 9.6804e-10 - acc: 1.0000 - val_loss: 2.0276 - val_acc: 0.8734\n",
      "INFO:tensorflow:Assets written to: HYBRID\\assets\n",
      "[1.0]\n",
      "[0.8734400272369385]\n",
      "49/49 [==============================] - 13s 249ms/step - loss: 9.9201e-10 - acc: 1.0000 - val_loss: 2.0297 - val_acc: 0.8734\n",
      "INFO:tensorflow:Assets written to: HYBRID\\assets\n",
      "[1.0]\n",
      "[0.8734400272369385]\n",
      "49/49 [==============================] - 10s 192ms/step - loss: 9.3419e-10 - acc: 1.0000 - val_loss: 2.0328 - val_acc: 0.8733\n",
      "INFO:tensorflow:Assets written to: HYBRID\\assets\n",
      "[1.0]\n",
      "[0.8733199834823608]\n",
      "49/49 [==============================] - 9s 163ms/step - loss: 1.0088e-09 - acc: 1.0000 - val_loss: 2.0328 - val_acc: 0.8733\n",
      "INFO:tensorflow:Assets written to: HYBRID\\assets\n",
      "[1.0]\n",
      "[0.8733199834823608]\n",
      "49/49 [==============================] - 10s 193ms/step - loss: 9.3613e-10 - acc: 1.0000 - val_loss: 2.0351 - val_acc: 0.8734\n",
      "INFO:tensorflow:Assets written to: HYBRID\\assets\n",
      "[1.0]\n",
      "[0.8733599781990051]\n",
      "49/49 [==============================] - 9s 174ms/step - loss: 8.4795e-10 - acc: 1.0000 - val_loss: 2.0351 - val_acc: 0.8734\n",
      "INFO:tensorflow:Assets written to: HYBRID\\assets\n",
      "[1.0]\n",
      "[0.8733599781990051]\n"
     ]
    }
   ],
   "source": [
    "import keras\n",
    "from matplotlib import pyplot as plt\n",
    "plot_points=[]\n",
    "plot_points2=[]\n",
    "model_hybrid.save('HYBRID')\n",
    "for i in range(epochs+1):\n",
    "    j = (i % 7) + 1\n",
    "    if epoch!=1:\n",
    "        \n",
    "    model_hybrid = tf.keras.models.load_model('HYBRID')\n",
    "    model_hybrid.compile(optimizer = key[j], loss = \n",
    "                         'binary_crossentropy', metrics = ['acc'])\n",
    "    history = model_hybrid.fit(x_train, y_train, epochs = 1, batch_size = 512, validation_data = validation)\n",
    "    model_hybrid.save('HYBRID')\n",
    "    plot_points.append(history.history['val_loss'])\n",
    "    plot_points2.append(history.history['loss'])\n",
    "    print(history.history['acc'])\n",
    "    print(history.history['val_acc'])"
   ]
  },
  {
   "cell_type": "code",
   "execution_count": null,
   "metadata": {},
   "outputs": [],
   "source": []
  },
  {
   "cell_type": "code",
   "execution_count": 46,
   "metadata": {},
   "outputs": [
    {
     "data": {
      "image/png": "[encoded data removed]",
      "text/plain": [
       "<Figure size 432x288 with 1 Axes>"
      ]
     },
     "metadata": {
      "needs_background": "light"
     },
     "output_type": "display_data"
    },
    {
     "data": {
      "text/plain": [
       "<Figure size 1080x720 with 0 Axes>"
      ]
     },
     "metadata": {},
     "output_type": "display_data"
    }
   ],
   "source": [
    "plt.plot(plot_points2)\n",
    "plt.plot(plot_points)\n",
    "plt.title('model loss')\n",
    "plt.ylabel('loss')\n",
    "plt.xlabel('epoch')\n",
    "plt.legend(['train', 'val'], loc='upper left')\n",
    "plt.figure(figsize = (15,10))\n",
    "plt.show()"
   ]
  },
  {
   "cell_type": "code",
   "execution_count": null,
   "metadata": {},
   "outputs": [],
   "source": []
  },
  {
   "cell_type": "code",
   "execution_count": 55,
   "metadata": {},
   "outputs": [
    {
     "data": {
      "image/png": "[encoded data removed]",
      "text/plain": [
       "<Figure size 432x288 with 1 Axes>"
      ]
     },
     "metadata": {
      "needs_background": "light"
     },
     "output_type": "display_data"
    }
   ],
   "source": [
    "plt.plot(plot_points2)\n",
    "plt.plot(plot_points)\n",
    "plt.title('model loss')\n",
    "plt.ylabel('loss')\n",
    "plt.xlabel('epoch')\n",
    "plt.legend(['train', 'val'], loc='upper left')\n",
    "plt.show()"
   ]
  },
  {
   "cell_type": "code",
   "execution_count": null,
   "metadata": {},
   "outputs": [],
   "source": []
  }
 ],
 "metadata": {
  "kernelspec": {
   "display_name": "Python 3",
   "language": "python",
   "name": "python3"
  },
  "language_info": {
   "codemirror_mode": {
    "name": "ipython",
    "version": 3
   },
   "file_extension": ".py",
   "mimetype": "text/x-python",
   "name": "python",
   "nbconvert_exporter": "python",
   "pygments_lexer": "ipython3",
   "version": "3.7.7"
  }
 },
 "nbformat": 4,
 "nbformat_minor": 4
}
